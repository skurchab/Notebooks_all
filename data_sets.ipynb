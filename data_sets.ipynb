{
 "cells": [
  {
   "cell_type": "code",
   "execution_count": null,
   "metadata": {
    "collapsed": false
   },
   "outputs": [],
   "source": [
    "%matplotlib inline\n",
    "import numpy as np\n",
    "import tensorflow as tf\n",
    "import pandas as pd\n",
    "import matplotlib.pyplot as plt\n",
    "import plotly.graph_objs as go\n",
    "from plotly.offline import download_plotlyjs, init_notebook_mode, plot, iplot\n",
    "from os import listdir\n",
    "from os.path import join\n",
    "from sklearn import metrics\n",
    "init_notebook_mode()"
   ]
  },
  {
   "cell_type": "code",
   "execution_count": null,
   "metadata": {
    "collapsed": true
   },
   "outputs": [],
   "source": [
    "def visualisation():\n",
    "    plt.plot(y_test[:,0],label='Actual')\n",
    "    plt.plot(y_pred[:,0],label='Forecast')\n",
    "    plt.legend(loc=\"upper left\")\n",
    "    return plt.show"
   ]
  },
  {
   "cell_type": "code",
   "execution_count": null,
   "metadata": {
    "collapsed": false
   },
   "outputs": [],
   "source": [
    "t=np.arange(0,10,0.01)\n",
    "mu, sigma = 0, 0.3 # mean and standard deviation\n",
    "s = np.random.normal(mu, sigma, 1000)\n",
    "x=(np.sin(2*np.pi*t)+s)"
   ]
  },
  {
   "cell_type": "code",
   "execution_count": null,
   "metadata": {
    "collapsed": false
   },
   "outputs": [],
   "source": [
    "plt.plot(x)"
   ]
  },
  {
   "cell_type": "code",
   "execution_count": null,
   "metadata": {
    "collapsed": false
   },
   "outputs": [],
   "source": [
    "def data_prep(data,num_periods=90,f_horizon=1,inputs=1,output=1, tr_unit=901):\n",
    "    data_train=data[0:tr_unit]\n",
    "    x_train=data_train[:(len(data_train)-(len(data_train)%num_periods))]\n",
    "    y_train=data_train[f_horizon:(len(data_train)-(len(data_train)%num_periods)+f_horizon)]\n",
    "    x_batches=x_train.reshape(-1,num_periods,inputs)\n",
    "    y_batches=y_train.reshape(-1,num_periods,output)\n",
    "    data_test=data[tr_unit:len(data)]\n",
    "    x_test=data_test[:(len(data_test)-(len(data_test)%num_periods))]\n",
    "    y_test=data_test[f_horizon:(len(data_test)-(len(data_test)%num_periods)+f_horizon)]\n",
    "    x_test=x_test.reshape(-1,num_periods,inputs)\n",
    "    y_test=y_test.reshape(-1,num_periods,output)\n",
    "    return x_batches, y_batches, x_test, y_test"
   ]
  },
  {
   "cell_type": "code",
   "execution_count": null,
   "metadata": {
    "collapsed": false
   },
   "outputs": [],
   "source": [
    "x_batches, y_batches, x_test, y_test=data_prep(x)"
   ]
  },
  {
   "cell_type": "code",
   "execution_count": null,
   "metadata": {
    "collapsed": false
   },
   "outputs": [],
   "source": [
    "np.shape(y_batches)\n"
   ]
  },
  {
   "cell_type": "code",
   "execution_count": null,
   "metadata": {
    "collapsed": false
   },
   "outputs": [],
   "source": [
    "def build_graph_RNN(data,epochs,num_periods=90,hidden=10,output=1,inputs=1,learning_rat=0.001):\n",
    "    tf.reset_default_graph()\n",
    "    X=tf.placeholder(tf.float32,[None,num_periods,inputs])\n",
    "    Y=tf.placeholder(tf.float32,[None,num_periods,output])\n",
    "    basic_cell=tf.contrib.rnn.BasicRNNCell(num_units=hidden)\n",
    "    rnn_output, states=tf.nn.dynamic_rnn(basic_cell,X,dtype=tf.float32)\n",
    "    stacked_rnn_output=tf.reshape(rnn_output,[-1,hidden])\n",
    "    stacked_outputs=tf.layers.dense(stacked_rnn_output,output)\n",
    "    outputs=tf.reshape(stacked_outputs,[-1,num_periods,output])\n",
    "    loss=tf.reduce_mean(tf.squared_difference(outputs, Y))\n",
    "    optimizer=tf.train.AdamOptimizer(learning_rate=learning_rat)\n",
    "    training_op=optimizer.minimize(loss)\n",
    "    init=tf.global_variables_initializer()\n",
    "    with tf.Session() as sess:\n",
    "        init.run()\n",
    "        for ep in range(epochs):\n",
    "            sess.run(training_op,feed_dict={X: x_batches, Y: y_batches})\n",
    "            if ep % 100 == 0:\n",
    "                mse=loss.eval(feed_dict={X: x_batches, Y: y_batches})\n",
    "                print(ep,\"\\tMSE:\",mse)\n",
    "        y_pred=sess.run(outputs,feed_dict={X:x_test})\n",
    "        mse_test=loss.eval(feed_dict={X:x_test,Y:y_test})\n",
    "    print(mse, mse_test)\n",
    "    return y_pred"
   ]
  },
  {
   "cell_type": "code",
   "execution_count": null,
   "metadata": {
    "collapsed": false
   },
   "outputs": [],
   "source": [
    "y_pred=build_graph_RNN(x,2000)"
   ]
  },
  {
   "cell_type": "code",
   "execution_count": null,
   "metadata": {
    "collapsed": false
   },
   "outputs": [],
   "source": [
    "plt.plot(y_test[0])\n",
    "plt.plot(y_pred[0])"
   ]
  },
  {
   "cell_type": "code",
   "execution_count": null,
   "metadata": {
    "collapsed": false
   },
   "outputs": [],
   "source": [
    "#MSE of ultra basic model\n",
    "print(metrics.mean_squared_error(x_batches[0],np.full(len(x_batches[0]),np.mean(x_batches[0]))))\n",
    "#Mse of basic model ???\n",
    "x_t1=y_test[0][:89]\n",
    "x_t=y_test[0][1:]\n",
    "print(metrics.mean_squared_error(x_t,x_t1))\n"
   ]
  },
  {
   "cell_type": "code",
   "execution_count": null,
   "metadata": {
    "collapsed": false
   },
   "outputs": [],
   "source": [
    "#MSE of predicted model\n",
    "metrics.mean_squared_error(y_test[0],y_pred[0])"
   ]
  },
  {
   "cell_type": "code",
   "execution_count": null,
   "metadata": {
    "collapsed": false
   },
   "outputs": [],
   "source": [
    "#training data\n",
    "data_train=x[0:902]\n",
    "num_periods=2\n",
    "x_train=np.repeat(data_train,2)\n",
    "x_train1=x_train[1:1801]\n",
    "x_batches=x_train1.reshape(-1,1,2)\n",
    "#x_batches=x_train1.reshape(-1,2,1) this does not work\n",
    "y_train=data_train[2:(len(data_train)-(len(data_train)%1)+2)]\n",
    "y_batches=y_train.reshape(-1,1,1)"
   ]
  },
  {
   "cell_type": "code",
   "execution_count": null,
   "metadata": {
    "collapsed": true
   },
   "outputs": [],
   "source": [
    "#test data\n",
    "data_test=x[902:]\n",
    "x_t=np.repeat(data_test,2)\n",
    "x_t1=x_t[1:193]\n",
    "x_test=x_t1.reshape(-1,1,2)\n",
    "#x_test=x_t1.reshape(-1,2,1)\n",
    "y_t=data_test[2:(len(data_test)-(len(data_test)%1)+1)]\n",
    "y_test=y_t.reshape(-1,1,1)"
   ]
  },
  {
   "cell_type": "code",
   "execution_count": null,
   "metadata": {
    "collapsed": true
   },
   "outputs": [],
   "source": [
    "tf.reset_default_graph()\n",
    "hidden=10\n",
    "X=tf.placeholder(tf.float32,[None,1,2])\n",
    "Y=tf.placeholder(tf.float32,[None,1,1])\n",
    "basic_cell=tf.contrib.rnn.BasicRNNCell(num_units=hidden,activation=tf.nn.relu)\n",
    "rnn_output, states=tf.nn.dynamic_rnn(basic_cell,X,dtype=tf.float32)\n",
    "learning_rat=0.001\n",
    "stacked_rnn_output=tf.reshape(rnn_output,[-1,hidden])\n",
    "stacked_outputs=tf.layers.dense(stacked_rnn_output,1)\n",
    "outputs=tf.reshape(stacked_outputs,[-1,1,1])\n",
    "loss=tf.reduce_mean(tf.squared_difference(outputs, Y))\n",
    "optimizer=tf.train.AdamOptimizer(learning_rate=learning_rat)\n",
    "training_op=optimizer.minimize(loss)\n",
    "init=tf.global_variables_initializer()"
   ]
  },
  {
   "cell_type": "code",
   "execution_count": null,
   "metadata": {
    "collapsed": false
   },
   "outputs": [],
   "source": [
    "epochs=2000\n",
    "with tf.Session() as sess:\n",
    "    init.run()\n",
    "    for ep in range(epochs):\n",
    "        sess.run(training_op,feed_dict={X: x_batches, Y: y_batches})\n",
    "        if ep % 100 == 0:\n",
    "            mse=loss.eval(feed_dict={X: x_batches, Y: y_batches})\n",
    "            print(ep,\"\\tMSE:\",mse)\n",
    "    y_pred=sess.run(outputs,feed_dict={X:x_test})\n",
    "    mse_test=loss.eval(feed_dict={X:x_test,Y:y_test})\n",
    "    #NMSE=(mse/len(x_train))/np.var(x_train)\n",
    "    #NMSE_test=(mse_test/len(x_test.reshape(-1)))/np.var(x_test.reshape(-1))\n",
    "    print(mse)\n",
    "    print(mse_test)\n",
    "sess.close() "
   ]
  },
  {
   "cell_type": "code",
   "execution_count": null,
   "metadata": {
    "collapsed": false
   },
   "outputs": [],
   "source": [
    "plt.plot(y_pred[:,0])\n",
    "plt.plot(y_test[:,0])"
   ]
  },
  {
   "cell_type": "code",
   "execution_count": null,
   "metadata": {
    "collapsed": false
   },
   "outputs": [],
   "source": [
    "data_train=x[:901]\n",
    "x_train=[]\n",
    "for i in range(898):\n",
    "    x_train.append(data_train[i:(i+3)])\n",
    "x_train=np.array(x_train)\n",
    "x_batches=x_train.reshape(-1,1,3)\n",
    "y_train=data_train[3:len(data_train)]#+3]\n",
    "y_batches=y_train.reshape(-1,1,1)\n",
    "data_test=x[902:]\n",
    "x_t=[]\n",
    "for i in range((len(data_test)-1)-2):\n",
    "    x_t.append(data_test[i:(i+3)])\n",
    "x_t=np.array(x_t)\n",
    "x_test=x_t.reshape(-1,1,3)\n",
    "y_t=data_test[3:len(data_test)]\n",
    "y_test=y_t.reshape(-1,1,1)\n",
    "    \n"
   ]
  },
  {
   "cell_type": "code",
   "execution_count": null,
   "metadata": {
    "collapsed": false
   },
   "outputs": [],
   "source": [
    "np.shape(x_batches)"
   ]
  },
  {
   "cell_type": "code",
   "execution_count": null,
   "metadata": {
    "collapsed": true
   },
   "outputs": [],
   "source": [
    "tf.reset_default_graph()\n",
    "hidden=150\n",
    "X=tf.placeholder(tf.float32,[None,1,3])\n",
    "Y=tf.placeholder(tf.float32,[None,1,1])\n",
    "basic_cell=tf.contrib.rnn.BasicRNNCell(num_units=hidden,activation=tf.nn.relu)\n",
    "rnn_output, states=tf.nn.dynamic_rnn(basic_cell,X,dtype=tf.float32)\n",
    "learning_rat=0.0001\n",
    "stacked_rnn_output=tf.reshape(rnn_output,[-1,hidden])\n",
    "stacked_outputs=tf.layers.dense(stacked_rnn_output,1)\n",
    "outputs=tf.reshape(stacked_outputs,[-1,1,1])\n",
    "loss=tf.reduce_mean(tf.squared_difference(outputs, Y))\n",
    "optimizer=tf.train.AdamOptimizer(learning_rate=learning_rat)\n",
    "training_op=optimizer.minimize(loss)\n",
    "init=tf.global_variables_initializer()"
   ]
  },
  {
   "cell_type": "code",
   "execution_count": null,
   "metadata": {
    "collapsed": false
   },
   "outputs": [],
   "source": [
    "epochs=1500\n",
    "with tf.Session() as sess:\n",
    "    init.run()\n",
    "    for ep in range(epochs):\n",
    "        sess.run(training_op,feed_dict={X: x_batches, Y: y_batches})\n",
    "        if ep % 100 == 0:\n",
    "            mse=loss.eval(feed_dict={X: x_batches, Y: y_batches})\n",
    "            print(ep,\"\\tMSE:\",mse)\n",
    "    y_pred=sess.run(outputs,feed_dict={X:x_test})\n",
    "    mse_test=loss.eval(feed_dict={X:x_test,Y:y_test})\n",
    "    #NMSE=(mse/len(x_train))/np.var(x_train)\n",
    "    #NMSE_test=(mse_test/len(x_test.reshape(-1)))/np.var(x_test.reshape(-1))\n",
    "    print(mse)\n",
    "    print(mse_test)\n",
    "sess.close() "
   ]
  },
  {
   "cell_type": "code",
   "execution_count": null,
   "metadata": {
    "collapsed": true
   },
   "outputs": [],
   "source": [
    "def data_preparation(data,time_wind,batch_size=1,output=1):\n",
    "    data_train=data[:901]\n",
    "    x_train=[]\n",
    "    for i in range((len(data_train)-1)-(time_wind-1)):\n",
    "        x_train.append(data_train[i:(i+time_wind)])\n",
    "    x_train=np.array(x_train)\n",
    "    x_batches=x_train.reshape(-1,batch_size,time_wind)\n",
    "    y_train=data_train[time_wind:len(data_train)]#+3]\n",
    "    y_batches=y_train.reshape(-1,batch_size,output)\n",
    "    data_test=data[902:]\n",
    "    x_t=[]\n",
    "    for i in range((len(data_test)-1)-(time_wind-1)):\n",
    "        x_t.append(data_test[i:(i+time_wind)])\n",
    "    x_t=np.array(x_t)\n",
    "    x_test=x_t.reshape(-1,batch_size,time_wind)\n",
    "    y_t=data_test[time_wind:len(data_test)]\n",
    "    y_test=y_t.reshape(-1,batch_size,output)\n",
    "    return x_batches, y_batches, x_test, y_test\n",
    "\n",
    "    "
   ]
  },
  {
   "cell_type": "code",
   "execution_count": null,
   "metadata": {
    "collapsed": true
   },
   "outputs": [],
   "source": [
    "x_batches, y_batches, x_test, y_test=data_preparation(x,3)"
   ]
  },
  {
   "cell_type": "code",
   "execution_count": null,
   "metadata": {
    "collapsed": false
   },
   "outputs": [],
   "source": [
    "def run_graph(epochs,time_wind,hidden=150,learning_rat=0.0065,output=1,batch_size=1):\n",
    "    tf.reset_default_graph()\n",
    "    X=tf.placeholder(tf.float32,[None,batch_size,time_wind])\n",
    "    Y=tf.placeholder(tf.float32,[None,batch_size,output])\n",
    "    basic_cell=tf.contrib.rnn.BasicRNNCell(num_units=hidden,activation=tf.nn.relu)\n",
    "    rnn_output, states=tf.nn.dynamic_rnn(basic_cell,X,dtype=tf.float32)\n",
    "    stacked_rnn_output=tf.reshape(rnn_output,[-1,hidden])\n",
    "    stacked_outputs=tf.layers.dense(stacked_rnn_output,output)\n",
    "    outputs=tf.reshape(stacked_outputs,[-1,batch_size,output])\n",
    "    loss=tf.reduce_mean(tf.squared_difference(outputs, Y))\n",
    "    optimizer=tf.train.AdamOptimizer(learning_rate=learning_rat)\n",
    "    training_op=optimizer.minimize(loss)\n",
    "    \n",
    "    init=tf.global_variables_initializer()\n",
    "    with tf.Session() as sess:\n",
    "        init.run()\n",
    "        for ep in range(epochs):\n",
    "            sess.run(training_op,feed_dict={X: x_batches, Y: y_batches})\n",
    "            if ep % 100 == 0:\n",
    "                mse=loss.eval(feed_dict={X: x_batches, Y: y_batches})\n",
    "                print(ep,\"\\tMSE:\",mse)\n",
    "        y_pred=sess.run(outputs,feed_dict={X:x_test})\n",
    "        mse_test=loss.eval(feed_dict={X:x_test,Y:y_test})\n",
    "    #NMSE=(mse/len(x_train))/np.var(x_train)\n",
    "    #NMSE_test=(mse_test/len(x_test.reshape(-1)))/np.var(x_test.reshape(-1))\n",
    "        print(mse)\n",
    "        print(mse_test)\n",
    "    sess.close() \n",
    "    return y_pred"
   ]
  },
  {
   "cell_type": "code",
   "execution_count": null,
   "metadata": {
    "collapsed": false
   },
   "outputs": [],
   "source": [
    "x_batches, y_batches, x_test, y_test=data_preparation(x,3)\n",
    "y_pred=run_graph(2000,3,hidden=10,learning_rat=0.001)\n",
    "visualisation()"
   ]
  },
  {
   "cell_type": "code",
   "execution_count": null,
   "metadata": {
    "collapsed": false
   },
   "outputs": [],
   "source": [
    "x_batches, y_batches, x_test, y_test=data_preparation(x,4)\n",
    "y_pred=run_graph(2000,4,hidden=10,learning_rat=0.01)\n",
    "visualisation()"
   ]
  },
  {
   "cell_type": "code",
   "execution_count": null,
   "metadata": {
    "collapsed": false
   },
   "outputs": [],
   "source": [
    "x_batches, y_batches, x_test, y_test=data_preparation(x,10)\n",
    "y_pred=run_graph(2000,10,hidden=10,learning_rat=0.01)\n",
    "visualisation()"
   ]
  },
  {
   "cell_type": "code",
   "execution_count": null,
   "metadata": {
    "collapsed": true
   },
   "outputs": [],
   "source": []
  },
  {
   "cell_type": "code",
   "execution_count": null,
   "metadata": {
    "collapsed": true
   },
   "outputs": [],
   "source": []
  },
  {
   "cell_type": "code",
   "execution_count": null,
   "metadata": {
    "collapsed": false
   },
   "outputs": [],
   "source": [
    "array=np.array([0.0,0.1,0.15,0.22,0.35,1.0,1.1,0.9])"
   ]
  },
  {
   "cell_type": "code",
   "execution_count": null,
   "metadata": {
    "collapsed": false
   },
   "outputs": [],
   "source": [
    "d=[]\n",
    "for i in range(6):\n",
    "    d.append(array[i:(i+3)])"
   ]
  },
  {
   "cell_type": "code",
   "execution_count": null,
   "metadata": {
    "collapsed": false
   },
   "outputs": [],
   "source": [
    "d"
   ]
  },
  {
   "cell_type": "code",
   "execution_count": null,
   "metadata": {
    "collapsed": false
   },
   "outputs": [],
   "source": [
    "np.array(d)"
   ]
  },
  {
   "cell_type": "code",
   "execution_count": null,
   "metadata": {
    "collapsed": false
   },
   "outputs": [],
   "source": [
    "len(array)"
   ]
  },
  {
   "cell_type": "code",
   "execution_count": null,
   "metadata": {
    "collapsed": false
   },
   "outputs": [],
   "source": [
    "a=np.arange(0,10)\n",
    "b=[]\n",
    "for i in range(8):\n",
    "    b.append(a[i:(i+3)])\n",
    "    "
   ]
  },
  {
   "cell_type": "code",
   "execution_count": null,
   "metadata": {
    "collapsed": false
   },
   "outputs": [],
   "source": [
    "a=np.arange(0,10)\n",
    "b=[]\n",
    "for i in range(7):\n",
    "    b.append(a[i:(i+4)])"
   ]
  },
  {
   "cell_type": "code",
   "execution_count": null,
   "metadata": {
    "collapsed": false
   },
   "outputs": [],
   "source": [
    "b"
   ]
  },
  {
   "cell_type": "code",
   "execution_count": null,
   "metadata": {
    "collapsed": true
   },
   "outputs": [],
   "source": [
    "t=np.arange(0,10,0.01)\n",
    "mu, sigma = 0, 0.5 # mean and standard deviation\n",
    "s = np.random.normal(mu, sigma, 1000)\n",
    "x=(t*(np.sin(2*np.pi*t))+s)"
   ]
  },
  {
   "cell_type": "code",
   "execution_count": null,
   "metadata": {
    "collapsed": false
   },
   "outputs": [],
   "source": [
    "plt.plot(x)"
   ]
  },
  {
   "cell_type": "code",
   "execution_count": null,
   "metadata": {
    "collapsed": true
   },
   "outputs": [],
   "source": [
    "x_batches, y_batches, x_test, y_test=data_prep(x)"
   ]
  },
  {
   "cell_type": "code",
   "execution_count": null,
   "metadata": {
    "collapsed": false
   },
   "outputs": [],
   "source": [
    "y_pred=build_graph_RNN(x,2000)"
   ]
  },
  {
   "cell_type": "code",
   "execution_count": null,
   "metadata": {
    "collapsed": false
   },
   "outputs": [],
   "source": [
    "plt.plot(y_test[0])\n",
    "plt.plot(y_pred[0])"
   ]
  },
  {
   "cell_type": "code",
   "execution_count": null,
   "metadata": {
    "collapsed": false
   },
   "outputs": [],
   "source": [
    "#MSE of ultra basic model\n",
    "print(metrics.mean_squared_error(x_batches[0],np.full(len(x_batches[0]),np.mean(x_batches[0]))))\n",
    "#Mse of basic model ???\n",
    "x_t1=y_test[0][:89]\n",
    "x_t=y_test[0][1:]\n",
    "print(metrics.mean_squared_error(x_t,x_t1))"
   ]
  },
  {
   "cell_type": "code",
   "execution_count": null,
   "metadata": {
    "collapsed": false
   },
   "outputs": [],
   "source": [
    "x_batches, y_batches, x_test, y_test=data_preparation(x,3)\n",
    "y_pred=run_graph(2000,3,hidden=10,learning_rat=0.01)\n",
    "visualisation()"
   ]
  },
  {
   "cell_type": "code",
   "execution_count": null,
   "metadata": {
    "collapsed": false
   },
   "outputs": [],
   "source": [
    "x_batches, y_batches, x_test, y_test=data_preparation(x,6)\n",
    "y_pred=run_graph(2000,6,hidden=10,learning_rat=0.01)\n",
    "visualisation()"
   ]
  },
  {
   "cell_type": "code",
   "execution_count": null,
   "metadata": {
    "collapsed": false
   },
   "outputs": [],
   "source": [
    "x_batches, y_batches, x_test, y_test=data_preparation(x,10)\n",
    "y_pred=run_graph(2000,10,hidden=10,learning_rat=0.01)\n",
    "visualisation()"
   ]
  },
  {
   "cell_type": "code",
   "execution_count": null,
   "metadata": {
    "collapsed": true
   },
   "outputs": [],
   "source": [
    "t=np.arange(0,10,0.01)\n",
    "t1=np.arange(0,20,0.02)\n",
    "mu, sigma = 0, 0.2 # mean and standard deviation\n",
    "s = np.random.normal(mu, sigma, 1000)\n",
    "x=(np.cos(2*np.pi*t1)*(np.sin(2*np.pi*t))+s)"
   ]
  },
  {
   "cell_type": "code",
   "execution_count": null,
   "metadata": {
    "collapsed": false
   },
   "outputs": [],
   "source": [
    "plt.plot(x)"
   ]
  },
  {
   "cell_type": "code",
   "execution_count": null,
   "metadata": {
    "collapsed": true
   },
   "outputs": [],
   "source": [
    "def data_prep(data,num_periods=90,f_horizon=1,inputs=1,output=1, tr_unit=901):\n",
    "    data_train=data[0:tr_unit]\n",
    "    x_train=data_train[:(len(data_train)-(len(data_train)%num_periods))]\n",
    "    y_train=data_train[f_horizon:(len(data_train)-(len(data_train)%num_periods)+f_horizon)]\n",
    "    x_batches=x_train.reshape(-1,num_periods,inputs)\n",
    "    y_batches=y_train.reshape(-1,num_periods,output)\n",
    "    data_test=data[tr_unit:len(data)]\n",
    "    x_test=data_test[:(len(data_test)-(len(data_test)%num_periods))]\n",
    "    y_test=data_test[f_horizon:(len(data_test)-(len(data_test)%num_periods)+f_horizon)]\n",
    "    x_test=x_test.reshape(-1,num_periods,inputs)\n",
    "    y_test=y_test.reshape(-1,num_periods,output)\n",
    "    return x_batches, y_batches, x_test, y_test"
   ]
  },
  {
   "cell_type": "code",
   "execution_count": null,
   "metadata": {
    "collapsed": false
   },
   "outputs": [],
   "source": [
    "x_batches, y_batches, x_test, y_test=data_prep(x)"
   ]
  },
  {
   "cell_type": "code",
   "execution_count": null,
   "metadata": {
    "collapsed": false
   },
   "outputs": [],
   "source": [
    "y_pred=build_graph_RNN(x,1500,num_periods=90)"
   ]
  },
  {
   "cell_type": "code",
   "execution_count": null,
   "metadata": {
    "collapsed": false
   },
   "outputs": [],
   "source": [
    "plt.plot(y_test[0])\n",
    "plt.plot(y_pred[0])"
   ]
  },
  {
   "cell_type": "code",
   "execution_count": null,
   "metadata": {
    "collapsed": false
   },
   "outputs": [],
   "source": [
    "len(y_batches[0])"
   ]
  },
  {
   "cell_type": "code",
   "execution_count": null,
   "metadata": {
    "collapsed": false
   },
   "outputs": [],
   "source": [
    "print(metrics.mean_squared_error(x_batches[0],np.full(len(x_batches[0]),np.mean(x_batches[0]))))\n",
    "#Mse of basic model ???\n",
    "x_t1=y_test[0][:89]\n",
    "x_t=y_test[0][1:]\n",
    "print(metrics.mean_squared_error(x_t,x_t1))"
   ]
  },
  {
   "cell_type": "code",
   "execution_count": null,
   "metadata": {
    "collapsed": true
   },
   "outputs": [],
   "source": [
    "def data_preparation(data,time_wind,batch_size=1,output=1):\n",
    "    data_train=data[:901]\n",
    "    x_train=[]\n",
    "    for i in range((len(data_train)-1)-(time_wind-1)):\n",
    "        x_train.append(data_train[i:(i+time_wind)])\n",
    "    x_train=np.array(x_train)\n",
    "    x_batches=x_train.reshape(-1,batch_size,time_wind)\n",
    "    y_train=data_train[time_wind:len(data_train)]#+3]\n",
    "    y_batches=y_train.reshape(-1,batch_size,output)\n",
    "    data_test=data[902:]\n",
    "    x_t=[]\n",
    "    for i in range((len(data_test)-1)-(time_wind-1)):\n",
    "        x_t.append(data_test[i:(i+time_wind)])\n",
    "    x_t=np.array(x_t)\n",
    "    x_test=x_t.reshape(-1,batch_size,time_wind)\n",
    "    y_t=data_test[time_wind:len(data_test)]\n",
    "    y_test=y_t.reshape(-1,batch_size,output)\n",
    "    return x_batches, y_batches, x_test, y_test"
   ]
  },
  {
   "cell_type": "code",
   "execution_count": null,
   "metadata": {
    "collapsed": true
   },
   "outputs": [],
   "source": [
    "x_batches, y_batches, x_test, y_test=data_preparation(x,3)"
   ]
  },
  {
   "cell_type": "code",
   "execution_count": null,
   "metadata": {
    "collapsed": false
   },
   "outputs": [],
   "source": [
    "np.shape(y_batches)"
   ]
  },
  {
   "cell_type": "code",
   "execution_count": null,
   "metadata": {
    "collapsed": false
   },
   "outputs": [],
   "source": [
    "x_batches, y_batches, x_test, y_test=data_preparation(x,3)\n",
    "y_pred=run_graph(2000,3,hidden=10,learning_rat=0.01)\n",
    "visualisation()"
   ]
  },
  {
   "cell_type": "code",
   "execution_count": null,
   "metadata": {
    "collapsed": false
   },
   "outputs": [],
   "source": [
    "x_batches, y_batches, x_test, y_test=data_preparation(x,6)\n",
    "y_pred=run_graph(2000,6,hidden=10,learning_rat=0.01)\n",
    "visualisation()"
   ]
  },
  {
   "cell_type": "code",
   "execution_count": null,
   "metadata": {
    "collapsed": false
   },
   "outputs": [],
   "source": [
    "x_batches, y_batches, x_test, y_test=data_preparation(x,10)\n",
    "y_pred=run_graph(2000,10,hidden=10,learning_rat=0.01)\n",
    "visualisation()"
   ]
  },
  {
   "cell_type": "code",
   "execution_count": null,
   "metadata": {
    "collapsed": false
   },
   "outputs": [],
   "source": [
    "t=np.arange(0,9,0.01)\n",
    "t1=np.arange(0,18,0.02)\n",
    "mu, sigma = 0, 0.2 # mean and standard deviation\n",
    "s = np.random.normal(mu, sigma, 900)\n",
    "x1=(np.cos(2*np.pi*t1)*(np.sin(2*np.pi*t))+s)\n",
    "t_=np.arange(9,10,0.01)\n",
    "t1_=np.arange(18,20,0.02)\n",
    "x2=np.cos(2*np.pi*t1_)*(np.sin(2*np.pi*t_))\n",
    "x=np.concatenate([x1,x2])"
   ]
  },
  {
   "cell_type": "code",
   "execution_count": null,
   "metadata": {
    "collapsed": false
   },
   "outputs": [],
   "source": [
    "plt.plot(x)"
   ]
  },
  {
   "cell_type": "code",
   "execution_count": null,
   "metadata": {
    "collapsed": false
   },
   "outputs": [],
   "source": [
    "x_batches, y_batches, x_test, y_test=data_preparation(x,1)\n",
    "y_pred=run_graph(2000,1,hidden=8,learning_rat=0.01)\n",
    "visualisation()"
   ]
  },
  {
   "cell_type": "code",
   "execution_count": null,
   "metadata": {
    "collapsed": false
   },
   "outputs": [],
   "source": [
    "print(metrics.mean_squared_error(x_batches[0],np.full(len(x_batches[0]),np.mean(x_batches[0]))))\n",
    "#Mse of basic model ???\n",
    "x_t1=y_test[0][:89]\n",
    "x_t=y_test[0][1:]\n",
    "print(metrics.mean_squared_error(x_t,x_t1))"
   ]
  },
  {
   "cell_type": "code",
   "execution_count": null,
   "metadata": {
    "collapsed": false
   },
   "outputs": [],
   "source": [
    "x_batches, y_batches, x_test, y_test=data_preparation(x,3)\n",
    "y_pred=run_graph(2000,3,hidden=8,learning_rat=0.01)\n",
    "visualisation()"
   ]
  },
  {
   "cell_type": "code",
   "execution_count": null,
   "metadata": {
    "collapsed": false
   },
   "outputs": [],
   "source": [
    "x_batches, y_batches, x_test, y_test=data_preparation(x,6)\n",
    "y_pred=run_graph(2000,6,hidden=8,learning_rat=0.01)\n",
    "visualisation()"
   ]
  },
  {
   "cell_type": "code",
   "execution_count": null,
   "metadata": {
    "collapsed": false
   },
   "outputs": [],
   "source": [
    "x_batches, y_batches, x_test, y_test=data_preparation(x,10)\n",
    "y_pred=run_graph(2000,10,hidden=5,learning_rat=0.04)\n",
    "visualisation()"
   ]
  },
  {
   "cell_type": "code",
   "execution_count": null,
   "metadata": {
    "collapsed": false
   },
   "outputs": [],
   "source": [
    "x_batches, y_batches, x_test, y_test=data_preparation(x,15)\n",
    "y_pred=run_graph(2000,15,hidden=5,learning_rat=0.08)\n",
    "visualisation()"
   ]
  },
  {
   "cell_type": "code",
   "execution_count": null,
   "metadata": {
    "collapsed": false
   },
   "outputs": [],
   "source": [
    "x_batches,y_batches,x_test, y_test=data_preparation(x,1)"
   ]
  },
  {
   "cell_type": "code",
   "execution_count": null,
   "metadata": {
    "collapsed": false
   },
   "outputs": [],
   "source": [
    "np.shape(y_test)"
   ]
  },
  {
   "cell_type": "code",
   "execution_count": null,
   "metadata": {
    "collapsed": false
   },
   "outputs": [],
   "source": [
    "len(y_test)"
   ]
  },
  {
   "cell_type": "code",
   "execution_count": null,
   "metadata": {
    "collapsed": true
   },
   "outputs": [],
   "source": []
  }
 ],
 "metadata": {
  "kernelspec": {
   "display_name": "Python [conda root]",
   "language": "python",
   "name": "conda-root-py"
  },
  "language_info": {
   "codemirror_mode": {
    "name": "ipython",
    "version": 3
   },
   "file_extension": ".py",
   "mimetype": "text/x-python",
   "name": "python",
   "nbconvert_exporter": "python",
   "pygments_lexer": "ipython3",
   "version": "3.5.2"
  }
 },
 "nbformat": 4,
 "nbformat_minor": 2
}
