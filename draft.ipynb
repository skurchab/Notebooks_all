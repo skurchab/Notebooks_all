{
 "cells": [
  {
   "cell_type": "code",
   "execution_count": 1,
   "metadata": {
    "collapsed": true
   },
   "outputs": [],
   "source": [
    "%matplotlib inline\n",
    "from os import listdir\n",
    "from os.path import isfile, join\n",
    "import numpy as np\n",
    "import pandas as pd\n",
    "import matplotlib.pyplot as plt\n",
    "from sklearn.decomposition import PCA\n",
    "from sklearn.preprocessing import StandardScaler, MinMaxScaler\n",
    "from sklearn.metrics import precision_recall_curve\n",
    "from sklearn.metrics import average_precision_score\n",
    "from scipy.special import erf\n",
    "from scipy.stats import pearsonr, kendalltau, spearmanr\n",
    "from sklearn import metrics\n",
    "from sklearn.metrics import roc_curve, auc\n"
   ]
  },
  {
   "cell_type": "code",
   "execution_count": 2,
   "metadata": {
    "collapsed": true
   },
   "outputs": [],
   "source": [
    "d1=pd.read_csv('aggtrx_20141001.csv')\n",
    "d2=pd.read_csv('aggtrx_20141002.csv')\n",
    "d3=pd.read_csv('aggtrx_20141003.csv')\n",
    "d4=pd.read_csv('aggtrx_20141004.csv')\n",
    "d5=pd.read_csv('aggtrx_20141005.csv')\n",
    "d6=pd.read_csv('aggtrx_20141006.csv')\n",
    "d7=pd.read_csv('aggtrx_20141007.csv')"
   ]
  },
  {
   "cell_type": "code",
   "execution_count": null,
   "metadata": {
    "collapsed": false
   },
   "outputs": [],
   "source": [
    "d=[d1,d2,d3,d4,d5,d5,d6,d7]\n",
    "df=pd.concat(d, ignore_index=True)\n",
    "df.info()"
   ]
  },
  {
   "cell_type": "code",
   "execution_count": 4,
   "metadata": {
    "collapsed": true
   },
   "outputs": [],
   "source": [
    "df_f1=df[df.TX_FRAUD==1]\n",
    "df_f0=df[df.TX_FRAUD==0]"
   ]
  },
  {
   "cell_type": "code",
   "execution_count": 29,
   "metadata": {
    "collapsed": true
   },
   "outputs": [],
   "source": [
    "df_f0_s=df_f0.sample(7489)"
   ]
  },
  {
   "cell_type": "code",
   "execution_count": 30,
   "metadata": {
    "collapsed": true
   },
   "outputs": [],
   "source": [
    "df_sl=[df_f0_s,df_f1]\n",
    "df_s=pd.concat(df_sl,ignore_index=True)"
   ]
  },
  {
   "cell_type": "code",
   "execution_count": 31,
   "metadata": {
    "collapsed": true
   },
   "outputs": [],
   "source": [
    "fr=df_s['TX_FRAUD'].apply(str)\n",
    "age=df_s['AGE']\n",
    "am=df_s['TX_AMOUNT']\n",
    "ID=df_s['CARD_PAN_ID']\n",
    "last=df_s['NB_TRX_LAST_24H']\n",
    "time_s=df_s['TX_TIME_SECONDS']\n",
    "new=[ID,am,age,fr,time_s,last]"
   ]
  },
  {
   "cell_type": "code",
   "execution_count": 32,
   "metadata": {
    "collapsed": true
   },
   "outputs": [],
   "source": [
    "w1=pd.concat([ID, am, age, fr, time_s, last], axis=1)\n",
    "w1.to_csv(\"select/w1\", index=False, header=True)"
   ]
  },
  {
   "cell_type": "code",
   "execution_count": 9,
   "metadata": {
    "collapsed": true
   },
   "outputs": [],
   "source": [
    "d8=pd.read_csv('aggtrx_20141008.csv')\n",
    "d9=pd.read_csv('aggtrx_20141009.csv')\n",
    "d10=pd.read_csv('aggtrx_20141010.csv')\n",
    "d_t=[d8,d9,d10]\n",
    "d_tt=pd.concat(d_t,ignore_index=True)\n",
    "d_tt0=d_tt[d_tt.TX_FRAUD==0]\n",
    "d_tt1=d_tt[d_tt.TX_FRAUD==1]\n",
    "d_tt0s=d_tt0.sample(8000)\n",
    "d_ttc=[d_tt1,d_tt0s]\n",
    "te=pd.concat(d_ttc,ignore_index=True) #87 % of guess, answering always zero\n",
    "test=pd.concat([te.CARD_PAN_ID,te.TX_AMOUNT,te.AGE,te.TX_FRAUD.apply(str),te.TX_TIME_SECONDS,te.NB_TRX_LAST_24H],axis=1)\n",
    "test=test.sample(9109)\n",
    "test.to_csv(\"select/test\",index=False, header=True)\n",
    "test1=pd.read_csv(\"select/test\")"
   ]
  },
  {
   "cell_type": "code",
   "execution_count": 42,
   "metadata": {
    "collapsed": false
   },
   "outputs": [],
   "source": [
    "df_f0_s=df_f0.sample(7489)\n",
    "df_sl=[df_f0_s,df_f1]\n",
    "df_s=pd.concat(df_sl,ignore_index=True)\n",
    "fr=df_s['TX_FRAUD'].apply(str)\n",
    "age=df_s['AGE']\n",
    "am=df_s['TX_AMOUNT']\n",
    "ID=df_s['CARD_PAN_ID']\n",
    "last=df_s['NB_TRX_LAST_24H']\n",
    "time_s=df_s['TX_TIME_SECONDS']\n",
    "new=[ID,am,age,fr,time_s,last]\n",
    "w2=pd.concat([ID, am, age, fr, time_s, last], axis=1)\n",
    "w2.to_csv(\"select/w2\", index=False, header=True)\n",
    "df_f0_s=df_f0.sample(7489)\n",
    "df_sl=[df_f0_s,df_f1]\n",
    "df_s=pd.concat(df_sl,ignore_index=True)\n",
    "fr=df_s['TX_FRAUD'].apply(str)\n",
    "age=df_s['AGE']\n",
    "am=df_s['TX_AMOUNT']\n",
    "ID=df_s['CARD_PAN_ID']\n",
    "last=df_s['NB_TRX_LAST_24H']\n",
    "time_s=df_s['TX_TIME_SECONDS']\n",
    "new=[ID,am,age,fr,time_s,last]\n",
    "w3=pd.concat([ID, am, age, fr, time_s, last], axis=1)\n",
    "w3.to_csv(\"select/w3\", index=False, header=True)"
   ]
  },
  {
   "cell_type": "code",
   "execution_count": 10,
   "metadata": {
    "collapsed": false
   },
   "outputs": [],
   "source": [
    " import h2o"
   ]
  },
  {
   "cell_type": "code",
   "execution_count": 40,
   "metadata": {
    "collapsed": false
   },
   "outputs": [
    {
     "name": "stdout",
     "output_type": "stream",
     "text": [
      "Checking whether there is an H2O instance running at http://localhost:54331..... not found.\n",
      "Attempting to start a local H2O server...\n",
      "  Java Version: java version \"1.8.0_111\"; Java(TM) SE Runtime Environment (build 1.8.0_111-b14); Java HotSpot(TM) 64-Bit Server VM (build 25.111-b14, mixed mode)\n",
      "  Starting server from /etc/anaconda3/lib/python3.5/site-packages/h2o/backend/bin/h2o.jar\n",
      "  Ice root: /tmp/tmpylslidpx\n",
      "  JVM stdout: /tmp/tmpylslidpx/h2o_skurchab_started_from_python.out\n",
      "  JVM stderr: /tmp/tmpylslidpx/h2o_skurchab_started_from_python.err\n",
      "  Server is running at http://127.0.0.1:54331\n",
      "Connecting to H2O server at http://127.0.0.1:54331... successful.\n"
     ]
    },
    {
     "data": {
      "text/html": [
       "<div style=\"overflow:auto\"><table style=\"width:50%\"><tr><td>H2O cluster uptime:</td>\n",
       "<td>01 secs</td></tr>\n",
       "<tr><td>H2O cluster version:</td>\n",
       "<td>3.10.5.2</td></tr>\n",
       "<tr><td>H2O cluster version age:</td>\n",
       "<td>15 days </td></tr>\n",
       "<tr><td>H2O cluster name:</td>\n",
       "<td>H2O_from_python_skurchab_9hoqdp</td></tr>\n",
       "<tr><td>H2O cluster total nodes:</td>\n",
       "<td>1</td></tr>\n",
       "<tr><td>H2O cluster free memory:</td>\n",
       "<td>6.962 Gb</td></tr>\n",
       "<tr><td>H2O cluster total cores:</td>\n",
       "<td>8</td></tr>\n",
       "<tr><td>H2O cluster allowed cores:</td>\n",
       "<td>8</td></tr>\n",
       "<tr><td>H2O cluster status:</td>\n",
       "<td>accepting new members, healthy</td></tr>\n",
       "<tr><td>H2O connection url:</td>\n",
       "<td>http://127.0.0.1:54331</td></tr>\n",
       "<tr><td>H2O connection proxy:</td>\n",
       "<td>None</td></tr>\n",
       "<tr><td>H2O internal security:</td>\n",
       "<td>False</td></tr>\n",
       "<tr><td>Python version:</td>\n",
       "<td>3.5.2 final</td></tr></table></div>"
      ],
      "text/plain": [
       "--------------------------  -------------------------------\n",
       "H2O cluster uptime:         01 secs\n",
       "H2O cluster version:        3.10.5.2\n",
       "H2O cluster version age:    15 days\n",
       "H2O cluster name:           H2O_from_python_skurchab_9hoqdp\n",
       "H2O cluster total nodes:    1\n",
       "H2O cluster free memory:    6.962 Gb\n",
       "H2O cluster total cores:    8\n",
       "H2O cluster allowed cores:  8\n",
       "H2O cluster status:         accepting new members, healthy\n",
       "H2O connection url:         http://127.0.0.1:54331\n",
       "H2O connection proxy:\n",
       "H2O internal security:      False\n",
       "Python version:             3.5.2 final\n",
       "--------------------------  -------------------------------"
      ]
     },
     "metadata": {},
     "output_type": "display_data"
    }
   ],
   "source": [
    "h2o.init(port=54331)\n"
   ]
  },
  {
   "cell_type": "code",
   "execution_count": 39,
   "metadata": {
    "collapsed": false
   },
   "outputs": [
    {
     "name": "stdout",
     "output_type": "stream",
     "text": [
      "H2O session _sid_a579 closed.\n"
     ]
    }
   ],
   "source": [
    "h2o.cluster().shutdown()"
   ]
  },
  {
   "cell_type": "code",
   "execution_count": 12,
   "metadata": {
    "collapsed": true
   },
   "outputs": [],
   "source": [
    "col_names=['card_pan_id','tx_amount','age','tx_time_seconds','nb_tx_last_24h']\n",
    "response_col=''"
   ]
  },
  {
   "cell_type": "code",
   "execution_count": 43,
   "metadata": {
    "collapsed": false
   },
   "outputs": [
    {
     "name": "stdout",
     "output_type": "stream",
     "text": [
      "Parse progress: |█████████████████████████████████████████████████████████| 100%\n",
      "Parse progress: |█████████████████████████████████████████████████████████| 100%\n",
      "Parse progress: |█████████████████████████████████████████████████████████| 100%\n"
     ]
    }
   ],
   "source": [
    "df_train = h2o.import_file(\"select/w1\")\n",
    "df_train2=h2o.import_file(\"select/w2\")\n",
    "df_train3=h2o.import_file(\"select/w3\")"
   ]
  },
  {
   "cell_type": "code",
   "execution_count": 44,
   "metadata": {
    "collapsed": false
   },
   "outputs": [
    {
     "name": "stdout",
     "output_type": "stream",
     "text": [
      "Parse progress: |█████████████████████████████████████████████████████████| 100%\n"
     ]
    }
   ],
   "source": [
    "df_val=h2o.import_file(\"select/test\")"
   ]
  },
  {
   "cell_type": "code",
   "execution_count": 45,
   "metadata": {
    "collapsed": false
   },
   "outputs": [
    {
     "data": {
      "text/plain": [
       "str"
      ]
     },
     "execution_count": 45,
     "metadata": {},
     "output_type": "execute_result"
    }
   ],
   "source": [
    "train_col=['CARD_PAN_ID','TX_AMOUNT','AGE','TX_TIME_SECONDS','NB_TRX_LAST_24H']\n",
    "resp_col='TX_FRAUD'\n",
    "type('TX_FRAUD')"
   ]
  },
  {
   "cell_type": "code",
   "execution_count": 46,
   "metadata": {
    "collapsed": false
   },
   "outputs": [
    {
     "name": "stdout",
     "output_type": "stream",
     "text": [
      "drf Model Build progress: |███████████████████████████████████████████████| 100%\n",
      "drf Model Build progress: |███████████████████████████████████████████████| 100%\n",
      "drf Model Build progress: |███████████████████████████████████████████████| 100%\n",
      "drf prediction progress: |████████████████████████████████████████████████| 100%\n",
      "drf prediction progress: |████████████████████████████████████████████████| 100%\n",
      "drf prediction progress: |████████████████████████████████████████████████| 100%\n"
     ]
    }
   ],
   "source": [
    "model = H2ORandomForestEstimator(ntrees=10, max_depth=20, nfolds=10, binomial_double_trees=True, stopping_metric= \"auc\")\n",
    "model2 = H2ORandomForestEstimator(ntrees=10, max_depth=20, nfolds=10, binomial_double_trees=True, stopping_metric= \"auc\")\n",
    "model3 = H2ORandomForestEstimator(ntrees=10, max_depth=20, nfolds=10, binomial_double_trees=True, stopping_metric= \"auc\")\n",
    "model.train(x=train_col, y=resp_col, training_frame=df_train)\n",
    "model2.train(x=train_col, y=resp_col, training_frame=df_train2)\n",
    "model3.train(x=train_col, y=resp_col, training_frame=df_train3)\n",
    "pred=model.predict(df_val)\n",
    "pred2=model2.predict(df_val)\n",
    "pred3=model3.predict(df_val)"
   ]
  },
  {
   "cell_type": "code",
   "execution_count": null,
   "metadata": {
    "collapsed": false
   },
   "outputs": [],
   "source": [
    "pr=h2o.h2o.as_list(pred, use_pandas=True)\n",
    "pr2=h2o.h2o.as_list(pred2,use_pandas=True)\n",
    "pr3=h2o.h2o.as_list(pred3,use_pandas=True)\n",
    "(pr+pr2+pr3)/3"
   ]
  },
  {
   "cell_type": "code",
   "execution_count": 17,
   "metadata": {
    "collapsed": false
   },
   "outputs": [
    {
     "data": {
      "text/plain": [
       "str"
      ]
     },
     "execution_count": 17,
     "metadata": {},
     "output_type": "execute_result"
    }
   ],
   "source": [
    "train_col=['CARD_PAN_ID','TX_AMOUNT','AGE','TX_TIME_SECONDS','NB_TRX_LAST_24H']\n",
    "resp_col='TX_FRAUD'\n",
    "type('TX_FRAUD')"
   ]
  },
  {
   "cell_type": "code",
   "execution_count": 15,
   "metadata": {
    "collapsed": true
   },
   "outputs": [],
   "source": [
    "from h2o.estimators.gbm import H2OGradientBoostingEstimator\n",
    "from h2o.estimators.random_forest import H2ORandomForestEstimator\n",
    "from h2o.estimators.deeplearning import H2ODeepLearningEstimator\n",
    "model = H2ORandomForestEstimator(ntrees=50, max_depth=20, nfolds=10, binomial_double_trees=True, stopping_metric= \"auc\")"
   ]
  },
  {
   "cell_type": "code",
   "execution_count": 19,
   "metadata": {
    "collapsed": false
   },
   "outputs": [
    {
     "name": "stdout",
     "output_type": "stream",
     "text": [
      "drf Model Build progress: |███████████████████████████████████████████████| 100%\n"
     ]
    }
   ],
   "source": [
    "model.train(x=train_col, y=resp_col, training_frame=df_train)"
   ]
  },
  {
   "cell_type": "code",
   "execution_count": 20,
   "metadata": {
    "collapsed": false
   },
   "outputs": [
    {
     "name": "stdout",
     "output_type": "stream",
     "text": [
      "drf prediction progress: |████████████████████████████████████████████████| 100%\n"
     ]
    }
   ],
   "source": [
    "pred=model.predict(df_val)"
   ]
  },
  {
   "cell_type": "code",
   "execution_count": null,
   "metadata": {
    "collapsed": false
   },
   "outputs": [],
   "source": [
    "pr=h2o.h2o.as_list(pred, use_pandas=True)\n",
    "pr.info()\n",
    "tr=h2o.h2o.as_list(df_val, use_pandas=True)\n",
    "tr.info()"
   ]
  },
  {
   "cell_type": "code",
   "execution_count": 23,
   "metadata": {
    "collapsed": false
   },
   "outputs": [],
   "source": [
    "# sklearn.metrics.roc_curve(y_true, y_score, pos_label=None, sample_weight=None, drop_intermediate=True)\n",
    "false_positive_rate, true_positive_rate, thresholds = roc_curve(tr.TX_FRAUD,pr.predict,pos_label=1)\n",
    "roc_auc = auc(false_positive_rate, true_positive_rate)"
   ]
  },
  {
   "cell_type": "code",
   "execution_count": 24,
   "metadata": {
    "collapsed": false
   },
   "outputs": [
    {
     "data": {
      "image/png": "[encoded data removed]",
      "text/plain": [
       "<matplotlib.figure.Figure at 0x70b886f94c88>"
      ]
     },
     "metadata": {},
     "output_type": "display_data"
    }
   ],
   "source": [
    "plt.title('ROC_test')\n",
    "plt.plot(false_positive_rate, true_positive_rate, 'r',\n",
    "label='AUC = %0.2f'% roc_auc)\n",
    "plt.legend(loc='lower right')\n",
    "plt.plot([0,1],[0,1],'g--')\n",
    "plt.xlim([-0.1,1.2])\n",
    "plt.ylim([-0.1,1.2])\n",
    "plt.ylabel('True Positive Rate')\n",
    "plt.xlabel('False Positive Rate')\n",
    "plt.show()"
   ]
  },
  {
   "cell_type": "code",
   "execution_count": 32,
   "metadata": {
    "collapsed": false
   },
   "outputs": [],
   "source": [
    "#Something wrong! See later again"
   ]
  },
  {
   "cell_type": "code",
   "execution_count": null,
   "metadata": {
    "collapsed": false
   },
   "outputs": [],
   "source": [
    "n=[tr.CARD_PAN_ID,pr.predict]\n",
    "new=pd.concat(n,axis=1)\n",
    "gr=new.groupby(\"CARD_PAN_ID\").max()\n",
    "largest=gr.predict.nlargest(100) # 100 cards with highest probability of being fraud\n",
    "largest\n"
   ]
  },
  {
   "cell_type": "code",
   "execution_count": 3,
   "metadata": {
    "collapsed": false
   },
   "outputs": [
    {
     "data": {
      "text/html": [
       "<div>\n",
       "<table border=\"1\" class=\"dataframe\">\n",
       "  <thead>\n",
       "    <tr style=\"text-align: right;\">\n",
       "      <th></th>\n",
       "      <th>Feb</th>\n",
       "      <th>Jan</th>\n",
       "      <th>Mar</th>\n",
       "      <th>account</th>\n",
       "    </tr>\n",
       "  </thead>\n",
       "  <tbody>\n",
       "    <tr>\n",
       "      <th>0</th>\n",
       "      <td>200</td>\n",
       "      <td>150</td>\n",
       "      <td>140</td>\n",
       "      <td>Jones LLC</td>\n",
       "    </tr>\n",
       "    <tr>\n",
       "      <th>1</th>\n",
       "      <td>210</td>\n",
       "      <td>200</td>\n",
       "      <td>215</td>\n",
       "      <td>Alpha Co</td>\n",
       "    </tr>\n",
       "    <tr>\n",
       "      <th>2</th>\n",
       "      <td>90</td>\n",
       "      <td>50</td>\n",
       "      <td>95</td>\n",
       "      <td>Blue Inc</td>\n",
       "    </tr>\n",
       "    <tr>\n",
       "      <th>3</th>\n",
       "      <td>220</td>\n",
       "      <td>120</td>\n",
       "      <td>240</td>\n",
       "      <td>Jones LLC</td>\n",
       "    </tr>\n",
       "    <tr>\n",
       "      <th>4</th>\n",
       "      <td>80</td>\n",
       "      <td>60</td>\n",
       "      <td>105</td>\n",
       "      <td>Blue Inc</td>\n",
       "    </tr>\n",
       "  </tbody>\n",
       "</table>\n",
       "</div>"
      ],
      "text/plain": [
       "   Feb  Jan  Mar    account\n",
       "0  200  150  140  Jones LLC\n",
       "1  210  200  215   Alpha Co\n",
       "2   90   50   95   Blue Inc\n",
       "3  220  120  240  Jones LLC\n",
       "4   80   60  105   Blue Inc"
      ]
     },
     "execution_count": 3,
     "metadata": {},
     "output_type": "execute_result"
    }
   ],
   "source": [
    "sales = [{'account': 'Jones LLC', 'Jan': 150, 'Feb': 200, 'Mar': 140},\n",
    "         {'account': 'Alpha Co',  'Jan': 200, 'Feb': 210, 'Mar': 215},\n",
    "         {'account': 'Blue Inc',  'Jan': 50,  'Feb': 90,  'Mar': 95 },\n",
    "         {'account': 'Jones LLC', 'Jan': 120, 'Feb': 220, 'Mar': 240},\n",
    "         {'account': 'Blue Inc',  'Jan': 60,  'Feb': 80,  'Mar': 105 }]\n",
    "frame = pd.DataFrame(sales)\n",
    "frame"
   ]
  },
  {
   "cell_type": "code",
   "execution_count": 26,
   "metadata": {
    "collapsed": false
   },
   "outputs": [],
   "source": [
    "\n",
    "from sklearn.metrics import precision_recall_curve\n",
    "from sklearn.metrics import average_precision_score\n"
   ]
  },
  {
   "cell_type": "code",
   "execution_count": 27,
   "metadata": {
    "collapsed": false
   },
   "outputs": [],
   "source": [
    "#sklearn.metrics.precision_recall_curve(y_true, probas_pred, pos_label=None, sample_weight=None)\n",
    "precision, recall, thresholds=precision_recall_curve(tr.TX_FRAUD,pr.predict,pos_label=1)\n",
    "#sklearn.metrics.average_precision_score(y_true, y_score, average='macro', sample_weight=None)\n",
    "average_precision=average_precision_score(tr.TX_FRAUD, pr.predict) "
   ]
  },
  {
   "cell_type": "code",
   "execution_count": 28,
   "metadata": {
    "collapsed": false
   },
   "outputs": [
    {
     "data": {
      "image/png": "[encoded data removed]",
      "text/plain": [
       "<matplotlib.figure.Figure at 0x70b8872ac240>"
      ]
     },
     "metadata": {},
     "output_type": "display_data"
    }
   ],
   "source": [
    "from sklearn.multiclass import OneVsRestClassifier\n",
    "plt.clf()\n",
    "plt.plot(recall, precision, color='navy',\n",
    "         label='Precision-Recall')\n",
    "plt.xlabel('Recall')\n",
    "plt.ylabel('Precision')\n",
    "plt.ylim([0.0, 1.05])\n",
    "plt.xlim([0.0, 1.0])\n",
    "plt.title('Precision-Recall example: AUC={0:0.2f}'.format(average_precision))\n",
    "plt.legend(loc=\"lower left\")\n",
    "plt.show()\n"
   ]
  },
  {
   "cell_type": "code",
   "execution_count": null,
   "metadata": {
    "collapsed": true
   },
   "outputs": [],
   "source": []
  }
 ],
 "metadata": {
  "anaconda-cloud": {},
  "kernelspec": {
   "display_name": "Python [conda root]",
   "language": "python",
   "name": "conda-root-py"
  },
  "language_info": {
   "codemirror_mode": {
    "name": "ipython",
    "version": 3
   },
   "file_extension": ".py",
   "mimetype": "text/x-python",
   "name": "python",
   "nbconvert_exporter": "python",
   "pygments_lexer": "ipython3",
   "version": "3.5.2"
  }
 },
 "nbformat": 4,
 "nbformat_minor": 2
}
