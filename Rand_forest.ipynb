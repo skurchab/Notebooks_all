{
 "cells": [
  {
   "cell_type": "code",
   "execution_count": null,
   "metadata": {
    "collapsed": false
   },
   "outputs": [],
   "source": [
    "import pandas as pd\n",
    "import numpy as np\n",
    "import math\n",
    "import sys\n",
    "\n",
    "#For plots\n",
    "import plotly.graph_objs as go\n",
    "from plotly.offline import download_plotlyjs, init_notebook_mode, plot, iplot\n",
    "init_notebook_mode()"
   ]
  },
  {
   "cell_type": "code",
   "execution_count": null,
   "metadata": {
    "collapsed": true
   },
   "outputs": [],
   "source": [
    "from os import listdir\n",
    "from os.path import join"
   ]
  },
  {
   "cell_type": "code",
   "execution_count": null,
   "metadata": {
    "collapsed": true
   },
   "outputs": [],
   "source": [
    "def read_from_files(files):\n",
    "    frames = []\n",
    "    for f in files:\n",
    "        df = pd.read_csv(f)\n",
    "        frames.append(df)\n",
    "        del df\n",
    "    df_final = pd.concat(frames)\n",
    "    df_final.sort_values(\"TX_TIME_SECONDS\")\n",
    "    return df_final\n"
   ]
  },
  {
   "cell_type": "code",
   "execution_count": null,
   "metadata": {
    "collapsed": false
   },
   "outputs": [],
   "source": [
    "DIR_INPUT = \"/home/worldline/data/CSVagg/\"\n",
    "\n",
    "TRAIN_BEGIN = \"aggtrx_20150424.csv\"\n",
    "TRAIN_END = \"aggtrx_20150430.csv\"\n",
    "\n",
    "files_train = [join(DIR_INPUT, f) for f in listdir(DIR_INPUT) if f>=TRAIN_BEGIN and f<=TRAIN_END]\n",
    "\n",
    "TEST_BEGIN = \"aggtrx_20150508.csv\"\n",
    "TEST_END = \"aggtrx_20150531.csv\"\n",
    "\n",
    "files_test = [join(DIR_INPUT, f) for f in listdir(DIR_INPUT) if f>=TEST_BEGIN and f<=TEST_END]\n",
    "\n",
    "print(\"Load training files\")\n",
    "%time train_all=read_from_files(files_train)\n",
    "del train_all[\"TX_ACCEPTED\"]\n",
    "\n",
    "train_all_1=train_all.copy(deep=True)\n",
    "print(\"{} training files loaded, {} GB in memory\".format(len(files_train),round(sys.getsizeof(train_all)/1073741824,2)))\n",
    "print(\"Load test files\")\n",
    "%time test_all=read_from_files(files_test)\n",
    "del test_all[\"TX_ACCEPTED\"]\n",
    "\n",
    "print(\"{} test files loaded, {} GB in memory\".format(len(files_test),round(sys.getsizeof(test_all)/1073741824,2)))"
   ]
  },
  {
   "cell_type": "code",
   "execution_count": null,
   "metadata": {
    "collapsed": true
   },
   "outputs": [],
   "source": [
    "def get_stats(df):\n",
    "    #Number of transactions per day\n",
    "    nb_tx_per_day=df.groupby(['TX_TIME_DAYS'])['CARD_PAN_ID'].count()\n",
    "    #Number of fraudulent transactions per day\n",
    "    nb_fraud_per_day=df.groupby(['TX_TIME_DAYS'])['TX_FRAUD'].sum()\n",
    "    #Number of fraudulent cards per day\n",
    "    nb_fraudcard_per_day=df[df['TX_FRAUD']>0].groupby(['TX_TIME_DAYS']).CARD_PAN_ID.nunique()\n",
    "    \n",
    "    return (nb_tx_per_day,nb_fraud_per_day,nb_fraudcard_per_day)"
   ]
  },
  {
   "cell_type": "code",
   "execution_count": null,
   "metadata": {
    "collapsed": true
   },
   "outputs": [],
   "source": [
    "def factor_to_risk(df, feature_to_transform):\n",
    "    for factor in feature_to_transform:\n",
    "        print(\"Processing: \"+factor)\n",
    "        risk = df.groupby(factor).TX_FRAUD.mean().to_frame()\n",
    "        risk.columns = [\"RISK_\" + factor]\n",
    "        df = df.merge(risk, left_on=factor, right_index = True) \n",
    "\n",
    "    return df"
   ]
  },
  {
   "cell_type": "code",
   "execution_count": null,
   "metadata": {
    "collapsed": true
   },
   "outputs": [],
   "source": [
    "def factor_from_previous_risk(df, df_past,feature_to_transform):\n",
    "    for factor in feature_to_transform:\n",
    "            riskfactor = \"RISK_\" + factor\n",
    "            #dffact = df[[factor]]\n",
    "            factor_risk = df_past[[factor, riskfactor]]\n",
    "            factor_risk=factor_risk.drop_duplicates(subset=factor, keep='last')\n",
    "            df = df.merge(factor_risk, how='left', on=factor)\n",
    "            nbrna = df[riskfactor].isnull().sum()\n",
    "            nbrrow = df.shape[0]\n",
    "            print(\"No risk found for factor {}  in {}% of cases\".format(riskfactor, (nbrna/nbrrow)*100 ))\n",
    "    df.fillna(0, inplace=True)\n",
    "    return df"
   ]
  },
  {
   "cell_type": "code",
   "execution_count": null,
   "metadata": {
    "collapsed": true
   },
   "outputs": [],
   "source": [
    "def remove_fraud_training(train, test):\n",
    "    train_fraud = train[(train.TX_FRAUD == True)].CARD_PAN_ID\n",
    "    test = test [~ test.CARD_PAN_ID.isin(train_fraud)]\n",
    "    return test"
   ]
  },
  {
   "cell_type": "code",
   "execution_count": null,
   "metadata": {
    "collapsed": true
   },
   "outputs": [],
   "source": [
    "COL_NAME_BASE=['CARD_PAN_ID', 'TX_AMOUNT', 'TX_FRAUD', 'TX_TIME_SECONDS', 'TX_TIME_DAYS', \n",
    "              'TERM_MIDUID', 'TERM_MCC', 'TERM_COUNTRY', 'TX_3D_SECURE', 'LANGUAGE',\n",
    "               'GENDER', 'BROKER', 'CARD_BRAND']\n"
   ]
  },
  {
   "cell_type": "code",
   "execution_count": null,
   "metadata": {
    "collapsed": true
   },
   "outputs": [],
   "source": [
    "train=train_all[COL_NAME_BASE]\n",
    "test=test_all[COL_NAME_BASE]"
   ]
  },
  {
   "cell_type": "code",
   "execution_count": null,
   "metadata": {
    "collapsed": true
   },
   "outputs": [],
   "source": [
    "feature_to_transform=['TERM_MIDUID', 'TERM_MCC', 'TERM_COUNTRY', 'TX_3D_SECURE', 'LANGUAGE',\n",
    "               'GENDER', 'BROKER', 'CARD_BRAND']"
   ]
  },
  {
   "cell_type": "code",
   "execution_count": null,
   "metadata": {
    "collapsed": false
   },
   "outputs": [],
   "source": [
    "%time train=factor_to_risk(train,feature_to_transform)\n",
    "%time test=factor_from_previous_risk(test,train,feature_to_transform)"
   ]
  },
  {
   "cell_type": "code",
   "execution_count": null,
   "metadata": {
    "collapsed": true
   },
   "outputs": [],
   "source": [
    "test=remove_fraud_training(train, test)"
   ]
  },
  {
   "cell_type": "code",
   "execution_count": null,
   "metadata": {
    "collapsed": false
   },
   "outputs": [],
   "source": [
    "test.info()"
   ]
  },
  {
   "cell_type": "code",
   "execution_count": null,
   "metadata": {
    "collapsed": true
   },
   "outputs": [],
   "source": [
    "del test[\"TERM_MIDUID\"]\n",
    "del test['TERM_MCC']\n",
    "del test['TERM_COUNTRY']\n",
    "del test['TX_3D_SECURE']\n",
    "del test['LANGUAGE']\n",
    "del test['GENDER']\n",
    "del test['BROKER']\n",
    "del test['CARD_BRAND']\n"
   ]
  },
  {
   "cell_type": "code",
   "execution_count": null,
   "metadata": {
    "collapsed": true
   },
   "outputs": [],
   "source": [
    "del train[\"TERM_MIDUID\"]\n",
    "del train['TERM_MCC']\n",
    "del train['TERM_COUNTRY']\n",
    "del train['TX_3D_SECURE']\n",
    "del train['LANGUAGE']\n",
    "del train['GENDER']\n",
    "del train['BROKER']\n",
    "del train['CARD_BRAND']"
   ]
  },
  {
   "cell_type": "code",
   "execution_count": null,
   "metadata": {
    "collapsed": true
   },
   "outputs": [],
   "source": [
    "import h2o\n",
    "from h2o.estimators.gbm import H2OGradientBoostingEstimator\n",
    "from h2o.estimators.random_forest import H2ORandomForestEstimator\n",
    "from h2o.estimators.deeplearning import H2ODeepLearningEstimator"
   ]
  },
  {
   "cell_type": "code",
   "execution_count": null,
   "metadata": {
    "collapsed": false
   },
   "outputs": [],
   "source": [
    "h2o.init(port=54331)"
   ]
  },
  {
   "cell_type": "code",
   "execution_count": null,
   "metadata": {
    "collapsed": false
   },
   "outputs": [],
   "source": [
    "%time df_test=h2o.H2OFrame(test)"
   ]
  },
  {
   "cell_type": "code",
   "execution_count": null,
   "metadata": {
    "collapsed": true
   },
   "outputs": [],
   "source": [
    "def compute_model_and_get_predictions(train, test, features, n_resample=10,random_state=0,trace=False):\n",
    "\n",
    "    train_0=train[train.TX_FRAUD==0]\n",
    "    train_1=train[train.TX_FRAUD==1]\n",
    "    ndata_fraud=train_1.shape[0]\n",
    "        \n",
    "    predictions=np.zeros(shape=(test.shape[0],n_resample))\n",
    "    #train_col=['TX_AMOUNT', 'RISK_TERM_MIDUID', 'RISK_TERM_MCC',\n",
    "    #   'RISK_TERM_COUNTRY', 'RISK_TX_3D_SECURE', 'RISK_LANGUAGE',\n",
    "     #  'RISK_GENDER', 'RISK_BROKER', 'RISK_CARD_BRAND']\n",
    "    resp_col='TX_FRAUD'\n",
    "    model = H2ORandomForestEstimator(ntrees=10, max_depth=15, nfolds=10,\n",
    "                                     binomial_double_trees=True, stopping_metric= \"auc\")\n",
    "    \n",
    "              \n",
    "    #df_test=h2o.H2OFrame(test)\n",
    "    for i in range(n_resample):\n",
    "        if trace:\n",
    "            print (\"Round \"+str(i))\n",
    "        data0=train_0.sample(n=ndata_fraud,random_state=i+random_state,replace=True)\n",
    "        data1=train_1.sample(n=ndata_fraud,random_state=i+n_resample+random_state,replace=True)\n",
    "        data_train=data0.append(data1)\n",
    "        df_train=h2o.H2OFrame(data_train)\n",
    "        model.train(x=train_col, y=resp_col, training_frame=df_train)\n",
    "        #df_test=h2o.H2OFrame(test)\n",
    "        pred=model.predict(df_test)\n",
    "        pr=h2o.h2o.as_list(pred, use_pandas=True)\n",
    "        predictions[:,[i]]=pr.as_matrix()\n",
    "    \n",
    "        \n",
    "    predictions=np.mean(predictions,1)\n",
    "    return predictions"
   ]
  },
  {
   "cell_type": "code",
   "execution_count": null,
   "metadata": {
    "collapsed": true
   },
   "outputs": [],
   "source": [
    "train_col=['TX_AMOUNT', 'RISK_TERM_MIDUID', 'RISK_TERM_MCC',\n",
    "       'RISK_TERM_COUNTRY', 'RISK_TX_3D_SECURE', 'RISK_LANGUAGE',\n",
    "       'RISK_GENDER', 'RISK_BROKER', 'RISK_CARD_BRAND']"
   ]
  },
  {
   "cell_type": "code",
   "execution_count": null,
   "metadata": {
    "collapsed": false
   },
   "outputs": [],
   "source": [
    "%time test['predictions']=compute_model_and_get_predictions(train, test, train_col, n_resample=10, random_state=0,trace=False)\n"
   ]
  },
  {
   "cell_type": "code",
   "execution_count": null,
   "metadata": {
    "collapsed": true
   },
   "outputs": [],
   "source": [
    "from sklearn.metrics import precision_recall_curve\n",
    "from sklearn.metrics import average_precision_score\n",
    "from sklearn.metrics import roc_auc_score"
   ]
  },
  {
   "cell_type": "code",
   "execution_count": null,
   "metadata": {
    "collapsed": true
   },
   "outputs": [],
   "source": [
    "def simulate_fraud_detection_day_by_day(df_test, score, top,trace=False):\n",
    "    ordered_days = list(df_test['TX_TIME_DAYS'].unique())\n",
    "    ordered_days.sort()\n",
    "    print(\"Number of days : {}\".format(len(ordered_days)))\n",
    "    known_fraud_cards = []\n",
    "    result = []\n",
    "    \n",
    "    for day in ordered_days:\n",
    "    \n",
    "        df_test_day = df_test[(df_test['TX_TIME_DAYS'] == day)]\n",
    "        df_test_day = df_test_day[[score, 'CARD_PAN_ID', 'TX_FRAUD']]\n",
    "        df_test_day=df_test_day[~df_test_day.CARD_PAN_ID.isin(known_fraud_cards)]\n",
    "        \n",
    "        df_test_day = df_test_day.groupby('CARD_PAN_ID').max().sort_values(by=score, ascending=False).reset_index() \n",
    "        nbr_correct_pred = df_test_day.head(top).TX_FRAUD.sum()\n",
    "        \n",
    "        n_frauds=df_test_day.TX_FRAUD.sum()\n",
    "        n_frauds_norm = min(top, n_frauds)\n",
    "        \n",
    "        percent_in_top = nbr_correct_pred / n_frauds_norm * 100\n",
    "        auc_pr = round(average_precision_score(df_test_day.TX_FRAUD, df_test_day[score],'micro'),2)\n",
    "        auc_roc = round(roc_auc_score(df_test_day.TX_FRAUD, df_test_day[score],'micro'),2)\n",
    "        \n",
    "        result.append([day,percent_in_top,auc_pr, auc_roc])\n",
    "        if trace:\n",
    "            print(\"Fraud in top\",str(top),\"found in day {}:  {}% ({} out of {}, with \".format(day,percent_in_top,nbr_correct_pred,n_frauds)+str(top)+\" as upper limit). AUC PR: {}. AUC ROC: {}.\".format(auc_pr, auc_roc))\n",
    "        df_top=df_test_day.head(top)\n",
    "        known_fraud_cards = known_fraud_cards + list(df_top[df_top.TX_FRAUD==1].CARD_PAN_ID)\n",
    "    \n",
    "    return np.array(result)"
   ]
  },
  {
   "cell_type": "code",
   "execution_count": null,
   "metadata": {
    "collapsed": false
   },
   "outputs": [],
   "source": [
    "%time results=simulate_fraud_detection_day_by_day(test,'predictions',100)"
   ]
  },
  {
   "cell_type": "markdown",
   "metadata": {},
   "source": [
    "# Results (Basic Features)"
   ]
  },
  {
   "cell_type": "code",
   "execution_count": null,
   "metadata": {
    "collapsed": false
   },
   "outputs": [],
   "source": [
    "print(np.mean(results,0))\n",
    "print(np.std(results,0))"
   ]
  },
  {
   "cell_type": "code",
   "execution_count": null,
   "metadata": {
    "collapsed": false
   },
   "outputs": [],
   "source": [
    "h2o.cluster().shutdown()"
   ]
  },
  {
   "cell_type": "markdown",
   "metadata": {},
   "source": [
    "# More features"
   ]
  },
  {
   "cell_type": "code",
   "execution_count": null,
   "metadata": {
    "collapsed": true
   },
   "outputs": [],
   "source": [
    "COL_NAME_BASE=['CARD_PAN_ID', 'TX_AMOUNT', 'TX_FRAUD', 'TX_TIME_SECONDS', 'TX_TIME_DAYS', \n",
    "              'TERM_MIDUID', 'TERM_MCC', 'TERM_COUNTRY', 'TX_3D_SECURE', 'LANGUAGE',\n",
    "               'GENDER', 'BROKER', 'CARD_BRAND', 'MIN_AMT_LAST_24H', 'SUM_AMT_LAST_24H',\n",
    "               'TX_DIFF_LAST_TX', 'TERM_REGION', 'TERM_CONTINENT','TERM_MCCG', 'TERM_MCC_GROUP', \n",
    "               'LAST_MIDUID_TX', 'LAST_COUNTRY_TX', 'LAST_MCC_HIS','NB_TRX_LAST_24H']"
   ]
  },
  {
   "cell_type": "code",
   "execution_count": null,
   "metadata": {
    "collapsed": false
   },
   "outputs": [],
   "source": [
    "train=train_all[COL_NAME_BASE]\n",
    "test=test_all[COL_NAME_BASE]"
   ]
  },
  {
   "cell_type": "code",
   "execution_count": null,
   "metadata": {
    "collapsed": true
   },
   "outputs": [],
   "source": [
    "feature_to_transform=['TERM_MIDUID', 'TERM_MCC', 'TERM_COUNTRY', 'TX_3D_SECURE', 'LANGUAGE',\n",
    "                       'GENDER', 'BROKER', 'CARD_BRAND', 'LAST_MIDUID_TX', 'LAST_COUNTRY_TX', \n",
    "                      'LAST_MCC_HIS', 'TERM_REGION', 'TERM_CONTINENT', 'TERM_MCCG', 'TERM_MCC_GROUP']\n"
   ]
  },
  {
   "cell_type": "code",
   "execution_count": null,
   "metadata": {
    "collapsed": false
   },
   "outputs": [],
   "source": [
    "%time train=factor_to_risk(train,feature_to_transform)\n",
    "%time test=factor_from_previous_risk(test,train,feature_to_transform)"
   ]
  },
  {
   "cell_type": "code",
   "execution_count": null,
   "metadata": {
    "collapsed": true
   },
   "outputs": [],
   "source": [
    "test=remove_fraud_training(train, test)"
   ]
  },
  {
   "cell_type": "code",
   "execution_count": null,
   "metadata": {
    "collapsed": false
   },
   "outputs": [],
   "source": [
    "test.info()"
   ]
  },
  {
   "cell_type": "code",
   "execution_count": null,
   "metadata": {
    "collapsed": true
   },
   "outputs": [],
   "source": [
    "del test[\"TERM_MIDUID\"]\n",
    "del test['TERM_MCC']\n",
    "del test['TERM_COUNTRY']\n",
    "del test['TX_3D_SECURE']\n",
    "del test['LANGUAGE']\n",
    "del test['GENDER']\n",
    "del test['BROKER']\n",
    "del test['CARD_BRAND']\n",
    "#del test['TX_TIME_HOURS']\n",
    "del test['TERM_REGION']\n",
    "del test['TERM_CONTINENT']\n",
    "del test['TERM_MCCG']\n",
    "del test['TERM_MCC_GROUP']\n",
    "del test['LAST_MIDUID_TX']\n",
    "del test['LAST_COUNTRY_TX']\n",
    "del test['LAST_MCC_HIS']"
   ]
  },
  {
   "cell_type": "code",
   "execution_count": null,
   "metadata": {
    "collapsed": true
   },
   "outputs": [],
   "source": [
    "del train[\"TERM_MIDUID\"]\n",
    "del train['TERM_MCC']\n",
    "del train['TERM_COUNTRY']\n",
    "del train['TX_3D_SECURE']\n",
    "del train['LANGUAGE']\n",
    "del train['GENDER']\n",
    "del train['BROKER']\n",
    "del train['CARD_BRAND']\n",
    "#del test['TX_TIME_HOURS']\n",
    "del train['TERM_REGION']\n",
    "del train['TERM_CONTINENT']\n",
    "del train['TERM_MCCG']\n",
    "del train['TERM_MCC_GROUP']\n",
    "del train['LAST_MIDUID_TX']\n",
    "del train['LAST_COUNTRY_TX']\n",
    "del train['LAST_MCC_HIS']"
   ]
  },
  {
   "cell_type": "code",
   "execution_count": null,
   "metadata": {
    "collapsed": true
   },
   "outputs": [],
   "source": [
    "features=['TX_AMOUNT', 'MIN_AMT_LAST_24H', 'SUM_AMT_LAST_24H',\n",
    "       'TX_DIFF_LAST_TX', 'NB_TRX_LAST_24H','RISK_TERM_MIDUID', 'RISK_TERM_MCC',\n",
    "       'RISK_TERM_COUNTRY', 'RISK_TX_3D_SECURE', 'RISK_LANGUAGE',\n",
    "       'RISK_GENDER', 'RISK_BROKER', 'RISK_CARD_BRAND', 'RISK_LAST_MIDUID_TX',\n",
    "       'RISK_LAST_COUNTRY_TX', 'RISK_LAST_MCC_HIS', 'RISK_TERM_REGION', 'RISK_TERM_CONTINENT',\n",
    "       'RISK_TERM_MCCG', 'RISK_TERM_MCC_GROUP']"
   ]
  },
  {
   "cell_type": "code",
   "execution_count": null,
   "metadata": {
    "collapsed": false
   },
   "outputs": [],
   "source": [
    "h2o.init(port=54331)"
   ]
  },
  {
   "cell_type": "code",
   "execution_count": null,
   "metadata": {
    "collapsed": false
   },
   "outputs": [],
   "source": [
    "%time df_test=h2o.H2OFrame(test)"
   ]
  },
  {
   "cell_type": "code",
   "execution_count": null,
   "metadata": {
    "collapsed": false
   },
   "outputs": [],
   "source": [
    "%time test['predictions']=compute_model_and_get_predictions(train, test, features, n_resample=10, random_state=0,trace=False)"
   ]
  },
  {
   "cell_type": "code",
   "execution_count": null,
   "metadata": {
    "collapsed": false
   },
   "outputs": [],
   "source": [
    "%time results=simulate_fraud_detection_day_by_day(test,'predictions',100)"
   ]
  },
  {
   "cell_type": "markdown",
   "metadata": {},
   "source": [
    "# Results (all features)"
   ]
  },
  {
   "cell_type": "code",
   "execution_count": null,
   "metadata": {
    "collapsed": false
   },
   "outputs": [],
   "source": [
    "print(np.mean(results,0))\n",
    "print(np.std(results,0))"
   ]
  },
  {
   "cell_type": "code",
   "execution_count": null,
   "metadata": {
    "collapsed": false
   },
   "outputs": [],
   "source": [
    "h2o.cluster().shutdown()"
   ]
  },
  {
   "cell_type": "markdown",
   "metadata": {},
   "source": [
    "# 50 trees (all features)"
   ]
  },
  {
   "cell_type": "code",
   "execution_count": null,
   "metadata": {
    "collapsed": false
   },
   "outputs": [],
   "source": [
    "h2o.init(port=54331)"
   ]
  },
  {
   "cell_type": "code",
   "execution_count": null,
   "metadata": {
    "collapsed": false
   },
   "outputs": [],
   "source": [
    "%time df_test=h2o.H2OFrame(test)"
   ]
  },
  {
   "cell_type": "code",
   "execution_count": null,
   "metadata": {
    "collapsed": true
   },
   "outputs": [],
   "source": [
    "def compute_model_and_get_predictions(train, test, features, n_resample=50,random_state=0,trace=False):\n",
    "\n",
    "    train_0=train[train.TX_FRAUD==0]\n",
    "    train_1=train[train.TX_FRAUD==1]\n",
    "    ndata_fraud=train_1.shape[0]\n",
    "        \n",
    "    predictions=np.zeros(shape=(test.shape[0],n_resample))\n",
    "    #train_col=['TX_AMOUNT', 'RISK_TERM_MIDUID', 'RISK_TERM_MCC',\n",
    "    #   'RISK_TERM_COUNTRY', 'RISK_TX_3D_SECURE', 'RISK_LANGUAGE',\n",
    "     #  'RISK_GENDER', 'RISK_BROKER', 'RISK_CARD_BRAND']\n",
    "    resp_col='TX_FRAUD'\n",
    "    model = H2ORandomForestEstimator(ntrees=50, max_depth=15, nfolds=10,\n",
    "                                     binomial_double_trees=True, stopping_metric= \"auc\")\n",
    "    \n",
    "              \n",
    "    #df_test=h2o.H2OFrame(test)\n",
    "    for i in range(n_resample):\n",
    "        if trace:\n",
    "            print (\"Round \"+str(i))\n",
    "        data0=train_0.sample(n=ndata_fraud,random_state=i+random_state,replace=True)\n",
    "        data1=train_1.sample(n=ndata_fraud,random_state=i+n_resample+random_state,replace=True)\n",
    "        data_train=data0.append(data1)\n",
    "        df_train=h2o.H2OFrame(data_train)\n",
    "        model.train(x=train_col, y=resp_col, training_frame=df_train)\n",
    "        #df_test=h2o.H2OFrame(test)\n",
    "        pred=model.predict(df_test)\n",
    "        pr=h2o.h2o.as_list(pred, use_pandas=True)\n",
    "        predictions[:,[i]]=pr.as_matrix()\n",
    "    \n",
    "        \n",
    "    predictions=np.mean(predictions,1)\n",
    "    return predictions"
   ]
  },
  {
   "cell_type": "code",
   "execution_count": null,
   "metadata": {
    "collapsed": false
   },
   "outputs": [],
   "source": [
    "%time test['predictions']=compute_model_and_get_predictions(train, test, features, n_resample=50, random_state=0,trace=False)"
   ]
  },
  {
   "cell_type": "code",
   "execution_count": null,
   "metadata": {
    "collapsed": false
   },
   "outputs": [],
   "source": [
    "%time results=simulate_fraud_detection_day_by_day(test,'predictions',100)"
   ]
  },
  {
   "cell_type": "markdown",
   "metadata": {},
   "source": [
    "# Results (all features 50 trees/50 runs)"
   ]
  },
  {
   "cell_type": "code",
   "execution_count": null,
   "metadata": {
    "collapsed": false
   },
   "outputs": [],
   "source": [
    "print(np.mean(results,0))\n",
    "print(np.std(results,0))"
   ]
  },
  {
   "cell_type": "code",
   "execution_count": null,
   "metadata": {
    "collapsed": false
   },
   "outputs": [],
   "source": [
    "h2o.cluster().shutdown()"
   ]
  },
  {
   "cell_type": "markdown",
   "metadata": {},
   "source": [
    "# Basic features (50 trees/50runs)"
   ]
  },
  {
   "cell_type": "code",
   "execution_count": null,
   "metadata": {
    "collapsed": false
   },
   "outputs": [],
   "source": [
    "h2o.init(port=54331)"
   ]
  },
  {
   "cell_type": "code",
   "execution_count": null,
   "metadata": {
    "collapsed": true
   },
   "outputs": [],
   "source": [
    "train_col=['TX_AMOUNT', 'RISK_TERM_MIDUID', 'RISK_TERM_MCC',\n",
    "       'RISK_TERM_COUNTRY', 'RISK_TX_3D_SECURE', 'RISK_LANGUAGE',\n",
    "       'RISK_GENDER', 'RISK_BROKER', 'RISK_CARD_BRAND']"
   ]
  },
  {
   "cell_type": "code",
   "execution_count": null,
   "metadata": {
    "collapsed": false
   },
   "outputs": [],
   "source": [
    "%time df_test=h2o.H2OFrame(test)"
   ]
  },
  {
   "cell_type": "code",
   "execution_count": null,
   "metadata": {
    "collapsed": true
   },
   "outputs": [],
   "source": [
    "def compute_model_and_get_predictions(train, test, features, n_resample=50,random_state=0,trace=False):\n",
    "\n",
    "    train_0=train[train.TX_FRAUD==0]\n",
    "    train_1=train[train.TX_FRAUD==1]\n",
    "    ndata_fraud=train_1.shape[0]\n",
    "        \n",
    "    predictions=np.zeros(shape=(test.shape[0],n_resample))\n",
    "    #train_col=['TX_AMOUNT', 'RISK_TERM_MIDUID', 'RISK_TERM_MCC',\n",
    "    #   'RISK_TERM_COUNTRY', 'RISK_TX_3D_SECURE', 'RISK_LANGUAGE',\n",
    "     #  'RISK_GENDER', 'RISK_BROKER', 'RISK_CARD_BRAND']\n",
    "    resp_col='TX_FRAUD'\n",
    "    model = H2ORandomForestEstimator(ntrees=50, max_depth=15, nfolds=10,\n",
    "                                     binomial_double_trees=True, stopping_metric= \"auc\")\n",
    "    \n",
    "              \n",
    "    #df_test=h2o.H2OFrame(test)\n",
    "    for i in range(n_resample):\n",
    "        if trace:\n",
    "            print (\"Round \"+str(i))\n",
    "        data0=train_0.sample(n=ndata_fraud,random_state=i+random_state,replace=True)\n",
    "        data1=train_1.sample(n=ndata_fraud,random_state=i+n_resample+random_state,replace=True)\n",
    "        data_train=data0.append(data1)\n",
    "        df_train=h2o.H2OFrame(data_train)\n",
    "        model.train(x=train_col, y=resp_col, training_frame=df_train)\n",
    "        #df_test=h2o.H2OFrame(test)\n",
    "        pred=model.predict(df_test)\n",
    "        pr=h2o.h2o.as_list(pred, use_pandas=True)\n",
    "        predictions[:,[i]]=pr.as_matrix()\n",
    "    \n",
    "        \n",
    "    predictions=np.mean(predictions,1)\n",
    "    return predictions"
   ]
  },
  {
   "cell_type": "code",
   "execution_count": null,
   "metadata": {
    "collapsed": false
   },
   "outputs": [],
   "source": [
    "%time test['predictions']=compute_model_and_get_predictions(train, test, train_col, n_resample=50, random_state=0,trace=False)"
   ]
  },
  {
   "cell_type": "code",
   "execution_count": null,
   "metadata": {
    "collapsed": false
   },
   "outputs": [],
   "source": [
    "%time results=simulate_fraud_detection_day_by_day(test,'predictions',100)"
   ]
  },
  {
   "cell_type": "markdown",
   "metadata": {},
   "source": [
    " # Results (Basic features 50/50)"
   ]
  },
  {
   "cell_type": "code",
   "execution_count": null,
   "metadata": {
    "collapsed": false
   },
   "outputs": [],
   "source": [
    "print(np.mean(results,0))\n",
    "print(np.std(results,0))"
   ]
  },
  {
   "cell_type": "code",
   "execution_count": null,
   "metadata": {
    "collapsed": false
   },
   "outputs": [],
   "source": [
    "h2o.cluster().shutdown()"
   ]
  },
  {
   "cell_type": "markdown",
   "metadata": {},
   "source": [
    "# Variables without transformation (basic features)"
   ]
  },
  {
   "cell_type": "code",
   "execution_count": null,
   "metadata": {
    "collapsed": false
   },
   "outputs": [],
   "source": [
    "train.info()\n",
    "test.info()"
   ]
  },
  {
   "cell_type": "code",
   "execution_count": null,
   "metadata": {
    "collapsed": false
   },
   "outputs": [],
   "source": [
    "test=remove_fraud_training(train, test)"
   ]
  },
  {
   "cell_type": "code",
   "execution_count": null,
   "metadata": {
    "collapsed": false
   },
   "outputs": [],
   "source": [
    "h2o.init(port=54331)"
   ]
  },
  {
   "cell_type": "code",
   "execution_count": null,
   "metadata": {
    "collapsed": false
   },
   "outputs": [],
   "source": [
    "%time df_test=h2o.H2OFrame(test)"
   ]
  },
  {
   "cell_type": "code",
   "execution_count": null,
   "metadata": {
    "collapsed": true
   },
   "outputs": [],
   "source": [
    "train_col=['TX_AMOUNT', 'TERM_MIDUID', 'TERM_MCC',\n",
    "       'TERM_COUNTRY', 'TX_3D_SECURE', 'LANGUAGE',\n",
    "       'GENDER', 'BROKER', 'CARD_BRAND']"
   ]
  },
  {
   "cell_type": "code",
   "execution_count": null,
   "metadata": {
    "collapsed": true
   },
   "outputs": [],
   "source": [
    "def compute_model_and_get_predictions(train, test, features, n_resample=10,random_state=0,trace=False):\n",
    "\n",
    "    train_0=train[train.TX_FRAUD==0]\n",
    "    train_1=train[train.TX_FRAUD==1]\n",
    "    ndata_fraud=train_1.shape[0]\n",
    "        \n",
    "    predictions=np.zeros(shape=(test.shape[0],n_resample))\n",
    "    #train_col=['TX_AMOUNT', 'RISK_TERM_MIDUID', 'RISK_TERM_MCC',\n",
    "    #   'RISK_TERM_COUNTRY', 'RISK_TX_3D_SECURE', 'RISK_LANGUAGE',\n",
    "     #  'RISK_GENDER', 'RISK_BROKER', 'RISK_CARD_BRAND']\n",
    "    resp_col='TX_FRAUD'\n",
    "    model = H2ORandomForestEstimator(ntrees=10, max_depth=15, nfolds=10,\n",
    "                                     binomial_double_trees=True, stopping_metric= \"auc\")\n",
    "    \n",
    "              \n",
    "    #df_test=h2o.H2OFrame(test)\n",
    "    for i in range(n_resample):\n",
    "        if trace:\n",
    "            print (\"Round \"+str(i))\n",
    "        data0=train_0.sample(n=ndata_fraud,random_state=i+random_state,replace=True)\n",
    "        data1=train_1.sample(n=ndata_fraud,random_state=i+n_resample+random_state,replace=True)\n",
    "        data_train=data0.append(data1)\n",
    "        df_train=h2o.H2OFrame(data_train)\n",
    "        model.train(x=train_col, y=resp_col, training_frame=df_train)\n",
    "        #df_test=h2o.H2OFrame(test)\n",
    "        pred=model.predict(df_test)\n",
    "        pr=h2o.h2o.as_list(pred, use_pandas=True)\n",
    "        predictions[:,[i]]=pr.as_matrix()\n",
    "    \n",
    "        \n",
    "    predictions=np.mean(predictions,1)\n",
    "    return predictions"
   ]
  },
  {
   "cell_type": "code",
   "execution_count": null,
   "metadata": {
    "collapsed": false
   },
   "outputs": [],
   "source": [
    "%time test['predictions']=compute_model_and_get_predictions(train, test, train_col, n_resample=10, random_state=0,trace=False)"
   ]
  },
  {
   "cell_type": "code",
   "execution_count": null,
   "metadata": {
    "collapsed": false
   },
   "outputs": [],
   "source": [
    "%time results=simulate_fraud_detection_day_by_day(test,'predictions',100)"
   ]
  },
  {
   "cell_type": "markdown",
   "metadata": {},
   "source": [
    "# Results (without transformation 10/10)"
   ]
  },
  {
   "cell_type": "code",
   "execution_count": null,
   "metadata": {
    "collapsed": false
   },
   "outputs": [],
   "source": [
    "print(np.mean(results,0))\n",
    "print(np.std(results,0))"
   ]
  },
  {
   "cell_type": "code",
   "execution_count": null,
   "metadata": {
    "collapsed": false
   },
   "outputs": [],
   "source": [
    "h2o.cluster().shutdown()"
   ]
  },
  {
   "cell_type": "markdown",
   "metadata": {},
   "source": [
    "# All variables (without transformation)"
   ]
  },
  {
   "cell_type": "code",
   "execution_count": null,
   "metadata": {
    "collapsed": true
   },
   "outputs": [],
   "source": [
    "COL_NAME_BASE=['CARD_PAN_ID', 'TX_AMOUNT', 'TX_FRAUD', 'TX_TIME_SECONDS', 'TX_TIME_DAYS', \n",
    "              'TERM_MIDUID', 'TERM_MCC', 'TERM_COUNTRY', 'TX_3D_SECURE', 'LANGUAGE',\n",
    "               'GENDER', 'BROKER', 'CARD_BRAND', 'MIN_AMT_LAST_24H', 'SUM_AMT_LAST_24H',\n",
    "               'TX_DIFF_LAST_TX', 'TERM_REGION', 'TERM_CONTINENT','TERM_MCCG', 'TERM_MCC_GROUP', \n",
    "               'LAST_MIDUID_TX', 'LAST_COUNTRY_TX', 'LAST_MCC_HIS','NB_TRX_LAST_24H']"
   ]
  },
  {
   "cell_type": "code",
   "execution_count": null,
   "metadata": {
    "collapsed": true
   },
   "outputs": [],
   "source": [
    "train=train_all[COL_NAME_BASE]\n",
    "test=test_all[COL_NAME_BASE]"
   ]
  },
  {
   "cell_type": "code",
   "execution_count": null,
   "metadata": {
    "collapsed": false
   },
   "outputs": [],
   "source": [
    "test=remove_fraud_training(train, test)"
   ]
  },
  {
   "cell_type": "code",
   "execution_count": null,
   "metadata": {
    "collapsed": true
   },
   "outputs": [],
   "source": [
    "features=['TX_AMOUNT', 'MIN_AMT_LAST_24H', 'SUM_AMT_LAST_24H',\n",
    "       'TX_DIFF_LAST_TX', 'NB_TRX_LAST_24H','TERM_MIDUID', 'TERM_MCC',\n",
    "       'TERM_COUNTRY', 'TX_3D_SECURE', 'LANGUAGE',\n",
    "       'GENDER', 'BROKER', 'CARD_BRAND', 'LAST_MIDUID_TX',\n",
    "       'LAST_COUNTRY_TX', 'LAST_MCC_HIS', 'TERM_REGION', 'TERM_CONTINENT',\n",
    "       'TERM_MCCG', 'TERM_MCC_GROUP']"
   ]
  },
  {
   "cell_type": "code",
   "execution_count": null,
   "metadata": {
    "collapsed": false
   },
   "outputs": [],
   "source": [
    "h2o.init(port=54331)"
   ]
  },
  {
   "cell_type": "code",
   "execution_count": null,
   "metadata": {
    "collapsed": false
   },
   "outputs": [],
   "source": [
    "%time df_test=h2o.H2OFrame(test)"
   ]
  },
  {
   "cell_type": "code",
   "execution_count": null,
   "metadata": {
    "collapsed": false
   },
   "outputs": [],
   "source": [
    "%time test['predictions']=compute_model_and_get_predictions(train, test, features, n_resample=10, random_state=0,trace=False)"
   ]
  },
  {
   "cell_type": "code",
   "execution_count": null,
   "metadata": {
    "collapsed": false
   },
   "outputs": [],
   "source": [
    "%time results=simulate_fraud_detection_day_by_day(test,'predictions',100)"
   ]
  },
  {
   "cell_type": "markdown",
   "metadata": {},
   "source": [
    "# Results (all features without transformation 10/10)"
   ]
  },
  {
   "cell_type": "code",
   "execution_count": null,
   "metadata": {
    "collapsed": false
   },
   "outputs": [],
   "source": [
    "print(np.mean(results,0))\n",
    "print(np.std(results,0))"
   ]
  },
  {
   "cell_type": "markdown",
   "metadata": {
    "collapsed": true
   },
   "source": [
    "# All features without transformation 50/50"
   ]
  },
  {
   "cell_type": "code",
   "execution_count": null,
   "metadata": {
    "collapsed": true
   },
   "outputs": [],
   "source": [
    "def compute_model_and_get_predictions(train, test, features, n_resample=50,random_state=0,trace=False):\n",
    "\n",
    "    train_0=train[train.TX_FRAUD==0]\n",
    "    train_1=train[train.TX_FRAUD==1]\n",
    "    ndata_fraud=train_1.shape[0]\n",
    "        \n",
    "    predictions=np.zeros(shape=(test.shape[0],n_resample))\n",
    "    #train_col=['TX_AMOUNT', 'RISK_TERM_MIDUID', 'RISK_TERM_MCC',\n",
    "    #   'RISK_TERM_COUNTRY', 'RISK_TX_3D_SECURE', 'RISK_LANGUAGE',\n",
    "     #  'RISK_GENDER', 'RISK_BROKER', 'RISK_CARD_BRAND']\n",
    "    resp_col='TX_FRAUD'\n",
    "    model = H2ORandomForestEstimator(ntrees=50, max_depth=15, nfolds=10,\n",
    "                                     binomial_double_trees=True, stopping_metric= \"auc\")\n",
    "    \n",
    "              \n",
    "    #df_test=h2o.H2OFrame(test)\n",
    "    for i in range(n_resample):\n",
    "        if trace:\n",
    "            print (\"Round \"+str(i))\n",
    "        data0=train_0.sample(n=ndata_fraud,random_state=i+random_state,replace=True)\n",
    "        data1=train_1.sample(n=ndata_fraud,random_state=i+n_resample+random_state,replace=True)\n",
    "        data_train=data0.append(data1)\n",
    "        df_train=h2o.H2OFrame(data_train)\n",
    "        model.train(x=train_col, y=resp_col, training_frame=df_train)\n",
    "        #df_test=h2o.H2OFrame(test)\n",
    "        pred=model.predict(df_test)\n",
    "        pr=h2o.h2o.as_list(pred, use_pandas=True)\n",
    "        predictions[:,[i]]=pr.as_matrix()\n",
    "    \n",
    "        \n",
    "    predictions=np.mean(predictions,1)\n",
    "    return predictions"
   ]
  },
  {
   "cell_type": "code",
   "execution_count": null,
   "metadata": {
    "collapsed": false
   },
   "outputs": [],
   "source": [
    "%time test['predictions']=compute_model_and_get_predictions(train, test, features, n_resample=50, random_state=0,trace=False)"
   ]
  },
  {
   "cell_type": "code",
   "execution_count": null,
   "metadata": {
    "collapsed": true
   },
   "outputs": [],
   "source": []
  }
 ],
 "metadata": {
  "anaconda-cloud": {},
  "kernelspec": {
   "display_name": "Python [conda root]",
   "language": "python",
   "name": "conda-root-py"
  },
  "language_info": {
   "codemirror_mode": {
    "name": "ipython",
    "version": 3
   },
   "file_extension": ".py",
   "mimetype": "text/x-python",
   "name": "python",
   "nbconvert_exporter": "python",
   "pygments_lexer": "ipython3",
   "version": "3.5.2"
  }
 },
 "nbformat": 4,
 "nbformat_minor": 2
}
