{
 "cells": [
  {
   "cell_type": "code",
   "execution_count": null,
   "metadata": {
    "collapsed": false
   },
   "outputs": [],
   "source": [
    "%matplotlib inline\n",
    "import numpy as np\n",
    "import tensorflow as tf\n",
    "import pandas as pd\n",
    "import matplotlib.pyplot as plt\n",
    "import plotly.graph_objs as go\n",
    "from plotly.offline import download_plotlyjs, init_notebook_mode, plot, iplot\n",
    "from os import listdir\n",
    "from os.path import join\n",
    "from sklearn import metrics\n",
    "init_notebook_mode()"
   ]
  },
  {
   "cell_type": "code",
   "execution_count": null,
   "metadata": {
    "collapsed": true
   },
   "outputs": [],
   "source": [
    "def generate_data(mu=0,sigma=0.3):\n",
    "    t=np.arange(0,10,0.01)\n",
    "    s = np.random.normal(mu, sigma, 1000)\n",
    "    x=(np.sin(2*np.pi*t)+s)\n",
    "    return x\n",
    "xx=generate_data()"
   ]
  },
  {
   "cell_type": "code",
   "execution_count": null,
   "metadata": {
    "collapsed": true
   },
   "outputs": [],
   "source": [
    "def visualisation():\n",
    "    plt.plot(y_test,label='Actual')\n",
    "    plt.plot(y_pred,label='Forecast')\n",
    "    plt.legend(loc=\"upper left\")\n",
    "    return plt.show"
   ]
  },
  {
   "cell_type": "markdown",
   "metadata": {
    "collapsed": true
   },
   "source": [
    "# NEW"
   ]
  },
  {
   "cell_type": "code",
   "execution_count": null,
   "metadata": {
    "collapsed": true
   },
   "outputs": [],
   "source": [
    "def data_preparation(data,time_wind=2,output=1,nb_var=1,batch_size=1):\n",
    "    data_train=data[:901]\n",
    "    x_train=[]\n",
    "    for i in range((len(data_train)-1)-(time_wind-1)):\n",
    "        x_train.append(data_train[i:(i+time_wind)])\n",
    "    x_train=np.array(x_train)\n",
    "    x_batches=(x_train[:(len(x_train)-(len(x_train)%batch_size))]).reshape(-1,time_wind,nb_var)\n",
    "    y_train=data_train[time_wind:len(data_train)]#+3]\n",
    "    y_batches=(y_train[:(len(y_train)-(len(y_train)%batch_size))]).reshape(-1,output)\n",
    "    data_test=data[902:]\n",
    "    x_t=[]\n",
    "    for i in range((len(data_test)-1)-(time_wind-1)):\n",
    "        x_t.append(data_test[i:(i+time_wind)])\n",
    "    x_t=np.array(x_t)\n",
    "    x_test=(x_t[:(len(x_t)-(len(x_t)%batch_size))]).reshape(-1,time_wind,nb_var)\n",
    "    #x_test=x_t.reshape(-1,batch_size,time_wind)\n",
    "    y_t=data_test[time_wind:len(data_test)]\n",
    "    y_test=(y_t[:(len(y_t)-(len(y_t)%batch_size))]).reshape(-1,output)\n",
    "    return x_batches, y_batches, x_test, y_test\n"
   ]
  },
  {
   "cell_type": "code",
   "execution_count": null,
   "metadata": {
    "collapsed": true
   },
   "outputs": [],
   "source": [
    "x_batches, y_batches, x_test, y_test=data_preparation(xx)"
   ]
  },
  {
   "cell_type": "code",
   "execution_count": null,
   "metadata": {
    "collapsed": false
   },
   "outputs": [],
   "source": [
    "print(np.shape(x_batches),np.shape(y_batches),np.shape(x_test),np.shape(y_test))"
   ]
  },
  {
   "cell_type": "code",
   "execution_count": null,
   "metadata": {
    "collapsed": true
   },
   "outputs": [],
   "source": [
    "def run_graph(epochs,time_wind,hidden=10,nb_var=1,output=1,lr=0.01):\n",
    "\n",
    "    from tensorflow.contrib import rnn\n",
    "    tf.reset_default_graph()\n",
    "    X=tf.placeholder(tf.float32,[None,time_wind,nb_var])\n",
    "    Y=tf.placeholder(tf.float32,[None,output])\n",
    " \n",
    "    tf.set_random_seed(1)\n",
    "    x=tf.unstack(X,time_wind,1)\n",
    "    \n",
    "    basic_cell=tf.contrib.rnn.BasicRNNCell(num_units=hidden)\n",
    "    rnn_output, states=rnn.static_rnn(basic_cell,x,dtype=tf.float32)\n",
    "\n",
    "    stacked_rnn_output=tf.reshape(rnn_output[-1],[-1,hidden])\n",
    "    stacked_outputs=tf.layers.dense(stacked_rnn_output,output)\n",
    "    #outputs=tf.reshape(stacked_outputs,[-1,90,1])\n",
    "    loss=tf.reduce_mean(tf.squared_difference(stacked_outputs, Y))\n",
    "    optimizer=tf.train.AdamOptimizer(learning_rate=lr)\n",
    "    training_op=optimizer.minimize(loss)\n",
    "    init=tf.global_variables_initializer()\n",
    "    with tf.Session() as sess:\n",
    "        init.run()\n",
    "        for ep in range(epochs):\n",
    "            sess.run(training_op,feed_dict={X: x_batches, Y: y_batches})\n",
    "            if ep % 100 == 0:\n",
    "                mse=loss.eval(feed_dict={X: x_batches, Y: y_batches})\n",
    "                print(ep,\"\\tMSE:\",mse)\n",
    "        y_pred=sess.run(stacked_outputs,feed_dict={X:x_test})\n",
    "        mse_test=loss.eval(feed_dict={X:x_test,Y:y_test})\n",
    "        print(mse)\n",
    "        print(mse_test)\n",
    "    sess.close() \n",
    "    return mse_test, y_pred"
   ]
  },
  {
   "cell_type": "code",
   "execution_count": null,
   "metadata": {
    "collapsed": true
   },
   "outputs": [],
   "source": [
    "from IPython.display import clear_output, Image, display, HTML\n",
    "\n",
    "def strip_consts(graph_def, max_const_size=32):\n",
    "    \"\"\"Strip large constant values from graph_def.\"\"\"\n",
    "    strip_def = tf.GraphDef()\n",
    "    for n0 in graph_def.node:\n",
    "        n = strip_def.node.add() \n",
    "        n.MergeFrom(n0)\n",
    "        if n.op == 'Const':\n",
    "            tensor = n.attr['value'].tensor\n",
    "            size = len(tensor.tensor_content)\n",
    "            if size > max_const_size:\n",
    "                tensor.tensor_content = \"<stripped %d bytes>\"%size\n",
    "    return strip_def\n",
    "\n",
    "def show_graph(graph_def, max_const_size=32):\n",
    "    \"\"\"Visualize TensorFlow graph.\"\"\"\n",
    "    if hasattr(graph_def, 'as_graph_def'):\n",
    "        graph_def = graph_def.as_graph_def()\n",
    "    strip_def = strip_consts(graph_def, max_const_size=max_const_size)\n",
    "    code = \"\"\"\n",
    "        <script>\n",
    "          function load() {{\n",
    "            document.getElementById(\"{id}\").pbtxt = {data};\n",
    "          }}\n",
    "        </script>\n",
    "        <link rel=\"import\" href=\"https://tensorboard.appspot.com/tf-graph-basic.build.html\" onload=load()>\n",
    "        <div style=\"height:600px\">\n",
    "          <tf-graph-basic id=\"{id}\"></tf-graph-basic>\n",
    "        </div>\n",
    "    \"\"\".format(data=repr(str(strip_def)), id='graph'+str(np.random.rand()))\n",
    "\n",
    "    iframe = \"\"\"\n",
    "        <iframe seamless style=\"width:1200px;height:620px;border:0\" srcdoc=\"{}\"></iframe>\n",
    "    \"\"\".format(code.replace('\"', '&quot;'))\n",
    "    display(HTML(iframe))"
   ]
  },
  {
   "cell_type": "code",
   "execution_count": null,
   "metadata": {
    "collapsed": false
   },
   "outputs": [],
   "source": [
    "show_graph(tf.get_default_graph().as_graph_def())"
   ]
  },
  {
   "cell_type": "code",
   "execution_count": null,
   "metadata": {
    "collapsed": false
   },
   "outputs": [],
   "source": [
    "mse=[]\n",
    "for i in range (10):\n",
    "    np.random.seed(i)\n",
    "    x_batches, y_batches, x_test, y_test=data_preparation(generate_data(),1)\n",
    "    #tf.set_random_seed(i)\n",
    "    mse_test,y_pred=run_graph(1000,1,hidden=10,lr=0.01)\n",
    "    mse.append(mse_test)\n",
    "visualisation()\n",
    "print(\"Mean of MSE for the model:{}\".format(np.mean(mse)))\n",
    "print(\"Variance of MSE for the model:{}\".format(np.var(mse)))\n"
   ]
  },
  {
   "cell_type": "code",
   "execution_count": null,
   "metadata": {
    "collapsed": false
   },
   "outputs": [],
   "source": [
    "mse=[]\n",
    "for i in range (10):\n",
    "    np.random.seed(i)\n",
    "    x_batches, y_batches, x_test, y_test=data_preparation(generate_data(),1)\n",
    "    #tf.set_random_seed(i)\n",
    "    mse_test,y_pred=run_graph(1000,1,hidden=10,lr=0.001)\n",
    "    mse.append(mse_test)\n",
    "visualisation()\n",
    "print(\"Mean of MSE for the model:{}\".format(np.mean(mse)))\n",
    "print(\"Variance of MSE for the model:{}\".format(np.var(mse)))"
   ]
  },
  {
   "cell_type": "code",
   "execution_count": null,
   "metadata": {
    "collapsed": false
   },
   "outputs": [],
   "source": [
    "mse=[]\n",
    "for i in range (10):\n",
    "    np.random.seed(i)\n",
    "    x_batches, y_batches, x_test, y_test=data_preparation(generate_data(),1)\n",
    "    #tf.set_random_seed(i)\n",
    "    mse_test,y_pred=run_graph(1000,1,hidden=10,lr=0.1)\n",
    "    mse.append(mse_test)\n",
    "visualisation()\n",
    "print(\"Mean of MSE for the model:{}\".format(np.mean(mse)))\n",
    "print(\"Variance of MSE for the model:{}\".format(np.var(mse)))"
   ]
  },
  {
   "cell_type": "code",
   "execution_count": null,
   "metadata": {
    "collapsed": false
   },
   "outputs": [],
   "source": [
    "mse=[]\n",
    "for i in range (10):\n",
    "    np.random.seed(i)\n",
    "    x_batches, y_batches, x_test, y_test=data_preparation(generate_data(),1)\n",
    "    mse_test,y_pred=run_graph(1000,1,hidden=1,lr=0.1)\n",
    "    mse.append(mse_test)\n",
    "visualisation()\n",
    "print(\"Mean of MSE for the model:{}\".format(np.mean(mse)))\n",
    "print(\"Variance of MSE for the model:{}\".format(np.var(mse)))"
   ]
  },
  {
   "cell_type": "code",
   "execution_count": null,
   "metadata": {
    "collapsed": false
   },
   "outputs": [],
   "source": [
    "mse=[]\n",
    "for i in range (10):\n",
    "    np.random.seed(i)\n",
    "    x_batches, y_batches, x_test, y_test=data_preparation(generate_data(),1)\n",
    "    #tf.set_random_seed(i)\n",
    "    mse_test,y_pred=run_graph(2000,1,hidden=1,lr=0.1)\n",
    "    mse.append(mse_test)\n",
    "visualisation()\n",
    "print(\"Mean of MSE for the model:{}\".format(np.mean(mse)))\n",
    "print(\"Variance of MSE for the model:{}\".format(np.var(mse)))"
   ]
  },
  {
   "cell_type": "code",
   "execution_count": null,
   "metadata": {
    "collapsed": false
   },
   "outputs": [],
   "source": [
    "mse=[]\n",
    "for i in range (10):\n",
    "    np.random.seed(i)\n",
    "    x_batches, y_batches, x_test, y_test=data_preparation(generate_data(),2)\n",
    "    #tf.set_random_seed(i)\n",
    "    mse_test,y_pred=run_graph(1000,2,hidden=1,lr=0.1)\n",
    "    mse.append(mse_test)\n",
    "visualisation()\n",
    "print(\"Mean of MSE for the model:{}\".format(np.mean(mse)))\n",
    "print(\"Variance of MSE for the model:{}\".format(np.var(mse)))"
   ]
  },
  {
   "cell_type": "code",
   "execution_count": null,
   "metadata": {
    "collapsed": false
   },
   "outputs": [],
   "source": [
    "mse=[]\n",
    "for i in range (10):\n",
    "    np.random.seed(i)\n",
    "    x_batches, y_batches, x_test, y_test=data_preparation(generate_data(),2)\n",
    "    #tf.set_random_seed(i)\n",
    "    mse_test,y_pred=run_graph(1000,2,hidden=10,lr=0.1)\n",
    "    mse.append(mse_test)\n",
    "visualisation()\n",
    "print(\"Mean of MSE for the model:{}\".format(np.mean(mse)))\n",
    "print(\"Variance of MSE for the model:{}\".format(np.var(mse)))"
   ]
  },
  {
   "cell_type": "code",
   "execution_count": null,
   "metadata": {
    "collapsed": false
   },
   "outputs": [],
   "source": [
    "mse=[]\n",
    "for i in range (10):\n",
    "    np.random.seed(i)\n",
    "    x_batches, y_batches, x_test, y_test=data_preparation(generate_data(),2)\n",
    "    #tf.set_random_seed(i)\n",
    "    mse_test,y_pred=run_graph(2000,2,hidden=1,lr=0.1)\n",
    "    mse.append(mse_test)\n",
    "visualisation()\n",
    "print(\"Mean of MSE for the model:{}\".format(np.mean(mse)))\n",
    "print(\"Variance of MSE for the model:{}\".format(np.var(mse)))"
   ]
  },
  {
   "cell_type": "code",
   "execution_count": null,
   "metadata": {
    "collapsed": false
   },
   "outputs": [],
   "source": [
    "mse=[]\n",
    "for i in range (10):\n",
    "    np.random.seed(i)\n",
    "    x_batches, y_batches, x_test, y_test=data_preparation(generate_data(),3)\n",
    "    #tf.set_random_seed(i)\n",
    "    mse_test,y_pred=run_graph(1000,3,hidden=1,lr=0.1)\n",
    "    mse.append(mse_test)\n",
    "visualisation()\n",
    "print(\"Mean of MSE for the model:{}\".format(np.mean(mse)))\n",
    "print(\"Variance of MSE for the model:{}\".format(np.var(mse)))"
   ]
  },
  {
   "cell_type": "code",
   "execution_count": null,
   "metadata": {
    "collapsed": false
   },
   "outputs": [],
   "source": [
    "mse=[]\n",
    "for i in range (10):\n",
    "    np.random.seed(i)\n",
    "    x_batches, y_batches, x_test, y_test=data_preparation(generate_data(),4)\n",
    "    #tf.set_random_seed(i)\n",
    "    mse_test,y_pred=run_graph(1000,4,hidden=1,lr=0.1)\n",
    "    mse.append(mse_test)\n",
    "visualisation()\n",
    "print(\"Mean of MSE for the model:{}\".format(np.mean(mse)))\n",
    "print(\"Variance of MSE for the model:{}\".format(np.var(mse)))"
   ]
  },
  {
   "cell_type": "code",
   "execution_count": null,
   "metadata": {
    "collapsed": false
   },
   "outputs": [],
   "source": [
    "mse=[]\n",
    "for i in range (10):\n",
    "    np.random.seed(i)\n",
    "    x_batches, y_batches, x_test, y_test=data_preparation(generate_data(),5)\n",
    "    #tf.set_random_seed(i)\n",
    "    mse_test,y_pred=run_graph(1000,5,hidden=1,lr=0.1)\n",
    "    mse.append(mse_test)\n",
    "visualisation()\n",
    "print(\"Mean of MSE for the model:{}\".format(np.mean(mse)))\n",
    "print(\"Variance of MSE for the model:{}\".format(np.var(mse)))"
   ]
  },
  {
   "cell_type": "code",
   "execution_count": null,
   "metadata": {
    "collapsed": false
   },
   "outputs": [],
   "source": [
    "mse=[]\n",
    "for i in range (10):\n",
    "    np.random.seed(i)\n",
    "    x_batches, y_batches, x_test, y_test=data_preparation(generate_data(),6)\n",
    "    #tf.set_random_seed(i)\n",
    "    mse_test,y_pred=run_graph(1000,6,hidden=1,lr=0.1)\n",
    "    mse.append(mse_test)\n",
    "visualisation()\n",
    "print(\"Mean of MSE for the model:{}\".format(np.mean(mse)))\n",
    "print(\"Variance of MSE for the model:{}\".format(np.var(mse)))"
   ]
  },
  {
   "cell_type": "code",
   "execution_count": null,
   "metadata": {
    "collapsed": false
   },
   "outputs": [],
   "source": [
    "mse=[]\n",
    "for i in range (10):\n",
    "    np.random.seed(i)\n",
    "    x_batches, y_batches, x_test, y_test=data_preparation(generate_data(),7)\n",
    "    #tf.set_random_seed(i)\n",
    "    mse_test,y_pred=run_graph(1000,7,hidden=1,lr=0.1)\n",
    "    mse.append(mse_test)\n",
    "visualisation()\n",
    "print(\"Mean of MSE for the model:{}\".format(np.mean(mse)))\n",
    "print(\"Variance of MSE for the model:{}\".format(np.var(mse)))"
   ]
  },
  {
   "cell_type": "code",
   "execution_count": null,
   "metadata": {
    "collapsed": false
   },
   "outputs": [],
   "source": [
    "mse=[]\n",
    "for i in range (10):\n",
    "    np.random.seed(i)\n",
    "    x_batches, y_batches, x_test, y_test=data_preparation(generate_data(),8)\n",
    "    #tf.set_random_seed(i)\n",
    "    mse_test,y_pred=run_graph(1000,8,hidden=1,lr=0.1)\n",
    "    mse.append(mse_test)\n",
    "visualisation()\n",
    "print(\"Mean of MSE for the model:{}\".format(np.mean(mse)))\n",
    "print(\"Variance of MSE for the model:{}\".format(np.var(mse)))"
   ]
  },
  {
   "cell_type": "code",
   "execution_count": null,
   "metadata": {
    "collapsed": false
   },
   "outputs": [],
   "source": [
    "mse=[]\n",
    "for i in range (10):\n",
    "    np.random.seed(i)\n",
    "    x_batches, y_batches, x_test, y_test=data_preparation(generate_data(),8)\n",
    "    #tf.set_random_seed(i)\n",
    "    mse_test,y_pred=run_graph(1000,8,hidden=1,lr=0.1)\n",
    "    mse.append(mse_test)\n",
    "visualisation()\n",
    "print(\"Mean of MSE for the model:{}\".format(np.mean(mse)))\n",
    "print(\"Variance of MSE for the model:{}\".format(np.var(mse)))"
   ]
  },
  {
   "cell_type": "code",
   "execution_count": null,
   "metadata": {
    "collapsed": false
   },
   "outputs": [],
   "source": [
    "mse_mean=[]\n",
    "mse_var=[]\n",
    "for j in range(1,110,5):\n",
    "    mse=[]\n",
    "    np.random.seed(j)\n",
    "    #tf.set_random_seed(j)\n",
    "    for i in range (10):\n",
    "        #np.random.seed(i)\n",
    "        x_batches, y_batches, x_test, y_test=data_preparation(generate_data(),6)\n",
    "        #tf.set_random_seed(i)\n",
    "        mse_test,y_pred=run_graph(1000,6,hidden=j,lr=0.1)\n",
    "        mse.append(mse_test)\n",
    "    mse_mean.append(np.mean(mse))\n",
    "    mse_var.append(np.var(mse))\n",
    "    print(\"Mean of MSE for the model with hidden={} equals{}\".format(j, np.mean(mse)))\n",
    "    print(\"Variance of MSE for the model with hidden={} equals{}\".format(j, np.var(mse)))\n",
    "visualisation()"
   ]
  },
  {
   "cell_type": "code",
   "execution_count": null,
   "metadata": {
    "collapsed": false
   },
   "outputs": [],
   "source": [
    "plt.plot(mse_mean)"
   ]
  },
  {
   "cell_type": "code",
   "execution_count": null,
   "metadata": {
    "collapsed": false
   },
   "outputs": [],
   "source": [
    "plt.plot(mse_var)"
   ]
  },
  {
   "cell_type": "code",
   "execution_count": null,
   "metadata": {
    "collapsed": false
   },
   "outputs": [],
   "source": [
    "mse=[]\n",
    "for i in range (10):\n",
    "    np.random.seed(i)\n",
    "    x_batches, y_batches, x_test, y_test=data_preparation(generate_data(),6)\n",
    "    #tf.set_random_seed(i)\n",
    "    mse_test,y_pred=run_graph(1000,6,hidden=20,lr=0.1)\n",
    "    mse.append(mse_test)\n",
    "visualisation()\n",
    "print(\"Mean of MSE for the model:{}\".format(np.mean(mse)))\n",
    "print(\"Variance of MSE for the model:{}\".format(np.var(mse)))"
   ]
  },
  {
   "cell_type": "code",
   "execution_count": null,
   "metadata": {
    "collapsed": false
   },
   "outputs": [],
   "source": [
    "mse=[]\n",
    "for i in range (10):\n",
    "    np.random.seed(i)\n",
    "    x_batches, y_batches, x_test, y_test=data_preparation(generate_data(),6)\n",
    "    #tf.set_random_seed(i)\n",
    "    mse_test,y_pred=run_graph(1000,6,hidden=20,lr=0.01)\n",
    "    mse.append(mse_test)\n",
    "visualisation()\n",
    "print(\"Mean of MSE for the model:{}\".format(np.mean(mse)))\n",
    "print(\"Variance of MSE for the model:{}\".format(np.var(mse)))"
   ]
  },
  {
   "cell_type": "code",
   "execution_count": null,
   "metadata": {
    "collapsed": false
   },
   "outputs": [],
   "source": [
    "mse=[]\n",
    "for i in range (10):\n",
    "    np.random.seed(i)\n",
    "    x_batches, y_batches, x_test, y_test=data_preparation(generate_data(),6)\n",
    "    #tf.set_random_seed(i)\n",
    "    mse_test,y_pred=run_graph(2000,6,hidden=20,lr=0.01)\n",
    "    mse.append(mse_test)\n",
    "visualisation()\n",
    "print(\"Mean of MSE for the model:{}\".format(np.mean(mse)))\n",
    "print(\"Variance of MSE for the model:{}\".format(np.var(mse)))"
   ]
  },
  {
   "cell_type": "code",
   "execution_count": null,
   "metadata": {
    "collapsed": false
   },
   "outputs": [],
   "source": [
    "mse=[]\n",
    "for i in range (10):\n",
    "    np.random.seed(i)\n",
    "    x_batches, y_batches, x_test, y_test=data_preparation(generate_data(),6)\n",
    "    #tf.set_random_seed(i)\n",
    "    mse_test,y_pred=run_graph(2000,6,hidden=20,lr=0.5)\n",
    "    mse.append(mse_test)\n",
    "visualisation()\n",
    "print(\"Mean of MSE for the model:{}\".format(np.mean(mse)))\n",
    "print(\"Variance of MSE for the model:{}\".format(np.var(mse)))"
   ]
  },
  {
   "cell_type": "code",
   "execution_count": null,
   "metadata": {
    "collapsed": false
   },
   "outputs": [],
   "source": [
    "mse=[]\n",
    "for i in range (10):\n",
    "    np.random.seed(i)\n",
    "    x_batches, y_batches, x_test, y_test=data_preparation(generate_data(),6)\n",
    "    #tf.set_random_seed(i)\n",
    "    mse_test,y_pred=run_graph(2000,6,hidden=10,lr=0.5)\n",
    "    mse.append(mse_test)\n",
    "visualisation()\n",
    "print(\"Mean of MSE for the model:{}\".format(np.mean(mse)))\n",
    "print(\"Variance of MSE for the model:{}\".format(np.var(mse)))"
   ]
  },
  {
   "cell_type": "code",
   "execution_count": null,
   "metadata": {
    "collapsed": false
   },
   "outputs": [],
   "source": [
    "mse=[]\n",
    "for i in range (10):\n",
    "    np.random.seed(i)\n",
    "    x_batches, y_batches, x_test, y_test=data_preparation(generate_data(),6)\n",
    "    #tf.set_random_seed(i)\n",
    "    mse_test,y_pred=run_graph(2000,6,hidden=50,lr=0.5)\n",
    "    mse.append(mse_test)\n",
    "visualisation()\n",
    "print(\"Mean of MSE for the model:{}\".format(np.mean(mse)))\n",
    "print(\"Variance of MSE for the model:{}\".format(np.var(mse)))"
   ]
  },
  {
   "cell_type": "code",
   "execution_count": null,
   "metadata": {
    "collapsed": false
   },
   "outputs": [],
   "source": [
    "mse=[]\n",
    "for i in range (10):\n",
    "    np.random.seed(i)\n",
    "    x_batches, y_batches, x_test, y_test=data_preparation(generate_data(),1)\n",
    "    #tf.set_random_seed(i)\n",
    "    mse_test,y_pred=run_graph(1000,1,hidden=1,lr=0.01)\n",
    "    mse.append(mse_test)\n",
    "visualisation()\n",
    "print(\"Mean of MSE for the model:{}\".format(np.mean(mse)))\n",
    "print(\"Variance of MSE for the model:{}\".format(np.var(mse)))"
   ]
  },
  {
   "cell_type": "code",
   "execution_count": null,
   "metadata": {
    "collapsed": false
   },
   "outputs": [],
   "source": [
    "mse=[]\n",
    "for i in range (10):\n",
    "    np.random.seed(i)\n",
    "    x_batches, y_batches, x_test, y_test=data_preparation(generate_data(),1)\n",
    "    #tf.set_random_seed(i)\n",
    "    mse_test,y_pred=run_graph(1000,1,hidden=1,lr=0.001)\n",
    "    mse.append(mse_test)\n",
    "visualisation()\n",
    "print(\"Mean of MSE for the model:{}\".format(np.mean(mse)))\n",
    "print(\"Variance of MSE for the model:{}\".format(np.var(mse)))"
   ]
  },
  {
   "cell_type": "code",
   "execution_count": null,
   "metadata": {
    "collapsed": false
   },
   "outputs": [],
   "source": [
    "mse=[]\n",
    "for i in range (10):\n",
    "    np.random.seed(i)\n",
    "    x_batches, y_batches, x_test, y_test=data_preparation(generate_data(),1)\n",
    "    #tf.set_random_seed(i)\n",
    "    mse_test,y_pred=run_graph(2000,1,hidden=1,lr=0.001)\n",
    "    mse.append(mse_test)\n",
    "visualisation()\n",
    "print(\"Mean of MSE for the model:{}\".format(np.mean(mse)))\n",
    "print(\"Variance of MSE for the model:{}\".format(np.var(mse)))"
   ]
  },
  {
   "cell_type": "code",
   "execution_count": null,
   "metadata": {
    "collapsed": false
   },
   "outputs": [],
   "source": [
    "mse=[]\n",
    "for i in range (10):\n",
    "    np.random.seed(i)\n",
    "    x_batches, y_batches, x_test, y_test=data_preparation(generate_data(),1)\n",
    "    #tf.set_random_seed(i)\n",
    "    mse_test,y_pred=run_graph(3000,1,hidden=1,lr=0.001)\n",
    "    mse.append(mse_test)\n",
    "visualisation()\n",
    "print(\"Mean of MSE for the model:{}\".format(np.mean(mse)))\n",
    "print(\"Variance of MSE for the model:{}\".format(np.var(mse)))"
   ]
  },
  {
   "cell_type": "code",
   "execution_count": null,
   "metadata": {
    "collapsed": false
   },
   "outputs": [],
   "source": [
    "mse=[]\n",
    "for i in range (10):\n",
    "    np.random.seed(i)\n",
    "    x_batches, y_batches, x_test, y_test=data_preparation(generate_data(),1)\n",
    "    #tf.set_random_seed(i)\n",
    "    mse_test,y_pred=run_graph(5000,1,hidden=1,lr=0.001)\n",
    "    mse.append(mse_test)\n",
    "visualisation()\n",
    "print(\"Mean of MSE for the model:{}\".format(np.mean(mse)))\n",
    "print(\"Variance of MSE for the model:{}\".format(np.var(mse)))"
   ]
  },
  {
   "cell_type": "code",
   "execution_count": null,
   "metadata": {
    "collapsed": false
   },
   "outputs": [],
   "source": [
    "mse=[]\n",
    "for i in range (10):\n",
    "    np.random.seed(i)\n",
    "    x_batches, y_batches, x_test, y_test=data_preparation(generate_data(),6)\n",
    "    #tf.set_random_seed(i)\n",
    "    mse_test,y_pred=run_graph(5000,6,hidden=1,lr=0.001)\n",
    "    mse.append(mse_test)\n",
    "visualisation()\n",
    "print(\"Mean of MSE for the model:{}\".format(np.mean(mse)))\n",
    "print(\"Variance of MSE for the model:{}\".format(np.var(mse)))"
   ]
  },
  {
   "cell_type": "code",
   "execution_count": null,
   "metadata": {
    "collapsed": false
   },
   "outputs": [],
   "source": [
    "mse=[]\n",
    "for i in range (10):\n",
    "    np.random.seed(i)\n",
    "    x_batches, y_batches, x_test, y_test=data_preparation(generate_data(),6)\n",
    "    #tf.set_random_seed(i)\n",
    "    mse_test,y_pred=run_graph(10000,6,hidden=1,lr=0.001)\n",
    "    mse.append(mse_test)\n",
    "visualisation()\n",
    "print(\"Mean of MSE for the model:{}\".format(np.mean(mse)))\n",
    "print(\"Variance of MSE for the model:{}\".format(np.var(mse)))"
   ]
  },
  {
   "cell_type": "code",
   "execution_count": null,
   "metadata": {
    "collapsed": false
   },
   "outputs": [],
   "source": [
    "mse=[]\n",
    "for i in range (10):\n",
    "    np.random.seed(i)\n",
    "    x_batches, y_batches, x_test, y_test=data_preparation(generate_data(),6)\n",
    "    #tf.set_random_seed(i)\n",
    "    mse_test,y_pred=run_graph(10500,6,hidden=1,lr=0.001)\n",
    "    mse.append(mse_test)\n",
    "visualisation()\n",
    "print(\"Mean of MSE for the model:{}\".format(np.mean(mse)))\n",
    "print(\"Variance of MSE for the model:{}\".format(np.var(mse)))"
   ]
  },
  {
   "cell_type": "code",
   "execution_count": null,
   "metadata": {
    "collapsed": false
   },
   "outputs": [],
   "source": [
    "mse=[]\n",
    "for i in range (10):\n",
    "    np.random.seed(i)\n",
    "    x_batches, y_batches, x_test, y_test=data_preparation(generate_data(),6)\n",
    "    #tf.set_random_seed(i)\n",
    "    mse_test,y_pred=run_graph(11000,6,hidden=1,lr=0.001)\n",
    "    mse.append(mse_test)\n",
    "visualisation()\n",
    "print(\"Mean of MSE for the model:{}\".format(np.mean(mse)))\n",
    "print(\"Variance of MSE for the model:{}\".format(np.var(mse)))"
   ]
  },
  {
   "cell_type": "code",
   "execution_count": null,
   "metadata": {
    "collapsed": false
   },
   "outputs": [],
   "source": [
    "mse=[]\n",
    "for i in range (10):\n",
    "    np.random.seed(i)\n",
    "    x_batches, y_batches, x_test, y_test=data_preparation(generate_data(),6)\n",
    "    #tf.set_random_seed(i)\n",
    "    mse_test,y_pred=run_graph(12000,6,hidden=1,lr=0.001)\n",
    "    mse.append(mse_test)\n",
    "visualisation()\n",
    "print(\"Mean of MSE for the model:{}\".format(np.mean(mse)))\n",
    "print(\"Variance of MSE for the model:{}\".format(np.var(mse)))"
   ]
  },
  {
   "cell_type": "code",
   "execution_count": null,
   "metadata": {
    "collapsed": false
   },
   "outputs": [],
   "source": [
    "mse=[]\n",
    "for i in range (10):\n",
    "    np.random.seed(i)\n",
    "    x_batches, y_batches, x_test, y_test=data_preparation(generate_data(),6)\n",
    "    #tf.set_random_seed(i)\n",
    "    mse_test,y_pred=run_graph(15000,6,hidden=1,lr=0.0005)\n",
    "    mse.append(mse_test)\n",
    "visualisation()\n",
    "print(\"Mean of MSE for the model:{}\".format(np.mean(mse)))\n",
    "print(\"Variance of MSE for the model:{}\".format(np.var(mse)))"
   ]
  },
  {
   "cell_type": "code",
   "execution_count": null,
   "metadata": {
    "collapsed": false
   },
   "outputs": [],
   "source": [
    "mse=[]\n",
    "for i in range (10):\n",
    "    np.random.seed(i)\n",
    "    x_batches, y_batches, x_test, y_test=data_preparation(generate_data(),6)\n",
    "    #tf.set_random_seed(i)\n",
    "    mse_test,y_pred=run_graph(15500,6,hidden=1,lr=0.00045)\n",
    "    mse.append(mse_test)\n",
    "visualisation()\n",
    "print(\"Mean of MSE for the model:{}\".format(np.mean(mse)))\n",
    "print(\"Variance of MSE for the model:{}\".format(np.var(mse)))"
   ]
  },
  {
   "cell_type": "code",
   "execution_count": null,
   "metadata": {
    "collapsed": false
   },
   "outputs": [],
   "source": [
    "mse=[]\n",
    "for i in range (10):\n",
    "    np.random.seed(i)\n",
    "    x_batches, y_batches, x_test, y_test=data_preparation(generate_data(),6)\n",
    "    #tf.set_random_seed(i)\n",
    "    mse_test,y_pred=run_graph(15500,6,hidden=1,lr=0.00044)\n",
    "    mse.append(mse_test)\n",
    "visualisation()\n",
    "print(\"Mean of MSE for the model:{}\".format(np.mean(mse)))\n",
    "print(\"Variance of MSE for the model:{}\".format(np.var(mse)))"
   ]
  },
  {
   "cell_type": "code",
   "execution_count": null,
   "metadata": {
    "collapsed": false
   },
   "outputs": [],
   "source": [
    "mse=[]\n",
    "for i in range (10):\n",
    "    np.random.seed(i)\n",
    "    x_batches, y_batches, x_test, y_test=data_preparation(generate_data(),6)\n",
    "    #tf.set_random_seed(i)\n",
    "    mse_test,y_pred=run_graph(15500,6,hidden=1,lr=0.00043)\n",
    "    mse.append(mse_test)\n",
    "visualisation()\n",
    "print(\"Mean of MSE for the model:{}\".format(np.mean(mse)))\n",
    "print(\"Variance of MSE for the model:{}\".format(np.var(mse)))"
   ]
  },
  {
   "cell_type": "code",
   "execution_count": null,
   "metadata": {
    "collapsed": false
   },
   "outputs": [],
   "source": [
    "mse=[]\n",
    "for i in range (10):\n",
    "    np.random.seed(i)\n",
    "    x_batches, y_batches, x_test, y_test=data_preparation(generate_data(),6)\n",
    "    #tf.set_random_seed(i)\n",
    "    mse_test,y_pred=run_graph(15700,6,hidden=1,lr=0.00043)\n",
    "    mse.append(mse_test)\n",
    "visualisation()\n",
    "print(\"Mean of MSE for the model:{}\".format(np.mean(mse)))\n",
    "print(\"Variance of MSE for the model:{}\".format(np.var(mse)))"
   ]
  },
  {
   "cell_type": "code",
   "execution_count": null,
   "metadata": {
    "collapsed": false
   },
   "outputs": [],
   "source": [
    "mse=[]\n",
    "for i in range (10):\n",
    "    np.random.seed(i)\n",
    "    x_batches, y_batches, x_test, y_test=data_preparation(generate_data(),6)\n",
    "    #tf.set_random_seed(i)\n",
    "    mse_test,y_pred=run_graph(15700,6,hidden=2,lr=0.00043)\n",
    "    mse.append(mse_test)\n",
    "visualisation()\n",
    "print(\"Mean of MSE for the model:{}\".format(np.mean(mse)))\n",
    "print(\"Variance of MSE for the model:{}\".format(np.var(mse)))"
   ]
  },
  {
   "cell_type": "code",
   "execution_count": null,
   "metadata": {
    "collapsed": false
   },
   "outputs": [],
   "source": [
    "mse_mean=[]\n",
    "mse_var=[]\n",
    "for j in range(1,110,5):\n",
    "    mse=[]\n",
    "    np.random.seed(j)\n",
    "    #tf.set_random_seed(j)\n",
    "    for i in range (10):\n",
    "        #np.random.seed(i)\n",
    "        x_batches, y_batches, x_test, y_test=data_preparation(generate_data(),1)\n",
    "        #tf.set_random_seed(i)\n",
    "        mse_test,y_pred=run_graph(1000,1,hidden=j,lr=0.1)\n",
    "        mse.append(mse_test)\n",
    "    mse_mean.append(np.mean(mse))\n",
    "    mse_var.append(np.var(mse))\n",
    "    print(\"Mean of MSE for the model with hidden={} equals{}\".format(j, np.mean(mse)))\n",
    "    print(\"Variance of MSE for the model with hidden={} equals{}\".format(j, np.var(mse)))\n",
    "visualisation()"
   ]
  },
  {
   "cell_type": "code",
   "execution_count": null,
   "metadata": {
    "collapsed": false
   },
   "outputs": [],
   "source": [
    "plt.plot(mse_mean)"
   ]
  },
  {
   "cell_type": "code",
   "execution_count": null,
   "metadata": {
    "collapsed": false
   },
   "outputs": [],
   "source": [
    "plt.plot(mse_var)"
   ]
  },
  {
   "cell_type": "code",
   "execution_count": null,
   "metadata": {
    "collapsed": false
   },
   "outputs": [],
   "source": [
    "mse=[]\n",
    "for i in range (10):\n",
    "    np.random.seed(i)\n",
    "    x_batches, y_batches, x_test, y_test=data_preparation(generate_data(),6)\n",
    "    #tf.set_random_seed(i)\n",
    "    mse_test,y_pred=run_graph(2000,6,hidden=10,lr=0.01)\n",
    "    mse.append(mse_test)\n",
    "visualisation()\n",
    "print(\"Mean of MSE for the model:{}\".format(np.mean(mse)))\n",
    "print(\"Variance of MSE for the model:{}\".format(np.var(mse)))"
   ]
  },
  {
   "cell_type": "code",
   "execution_count": null,
   "metadata": {
    "collapsed": false
   },
   "outputs": [],
   "source": [
    "mse=[]\n",
    "for i in range (10):\n",
    "    np.random.seed(i)\n",
    "    x_batches, y_batches, x_test, y_test=data_preparation(generate_data(),6)\n",
    "    #tf.set_random_seed(i)\n",
    "    mse_test,y_pred=run_graph(2000,6,hidden=10,lr=0.001)\n",
    "    mse.append(mse_test)\n",
    "visualisation()\n",
    "print(\"Mean of MSE for the model:{}\".format(np.mean(mse)))\n",
    "print(\"Variance of MSE for the model:{}\".format(np.var(mse)))"
   ]
  },
  {
   "cell_type": "code",
   "execution_count": null,
   "metadata": {
    "collapsed": false
   },
   "outputs": [],
   "source": [
    "mse=[]\n",
    "for i in range (10):\n",
    "    np.random.seed(i)\n",
    "    x_batches, y_batches, x_test, y_test=data_preparation(generate_data(),6)\n",
    "    #tf.set_random_seed(i)\n",
    "    mse_test,y_pred=run_graph(3500,6,hidden=10,lr=0.0004)\n",
    "    mse.append(mse_test)\n",
    "visualisation()\n",
    "print(\"Mean of MSE for the model:{}\".format(np.mean(mse)))\n",
    "print(\"Variance of MSE for the model:{}\".format(np.var(mse)))"
   ]
  },
  {
   "cell_type": "code",
   "execution_count": null,
   "metadata": {
    "collapsed": false
   },
   "outputs": [],
   "source": [
    "mse=[]\n",
    "for i in range (10):\n",
    "    np.random.seed(i)\n",
    "    x_batches, y_batches, x_test, y_test=data_preparation(generate_data(),6)\n",
    "    #tf.set_random_seed(i)\n",
    "    mse_test,y_pred=run_graph(3500,6,hidden=10,lr=0.0001)\n",
    "    mse.append(mse_test)\n",
    "visualisation()\n",
    "print(\"Mean of MSE for the model:{}\".format(np.mean(mse)))\n",
    "print(\"Variance of MSE for the model:{}\".format(np.var(mse)))"
   ]
  },
  {
   "cell_type": "code",
   "execution_count": null,
   "metadata": {
    "collapsed": false
   },
   "outputs": [],
   "source": [
    "mse=[]\n",
    "for i in range (10):\n",
    "    np.random.seed(i)\n",
    "    x_batches, y_batches, x_test, y_test=data_preparation(generate_data(),6)\n",
    "    #tf.set_random_seed(i)\n",
    "    mse_test,y_pred=run_graph(3500,6,hidden=20,lr=0.0001)\n",
    "    mse.append(mse_test)\n",
    "visualisation()\n",
    "print(\"Mean of MSE for the model:{}\".format(np.mean(mse)))\n",
    "print(\"Variance of MSE for the model:{}\".format(np.var(mse)))"
   ]
  },
  {
   "cell_type": "code",
   "execution_count": null,
   "metadata": {
    "collapsed": false
   },
   "outputs": [],
   "source": [
    "mse=[]\n",
    "for i in range (10):\n",
    "    np.random.seed(i)\n",
    "    x_batches, y_batches, x_test, y_test=data_preparation(generate_data(),6)\n",
    "    #tf.set_random_seed(i)\n",
    "    mse_test,y_pred=run_graph(6000,6,hidden=20,lr=0.00007)\n",
    "    mse.append(mse_test)\n",
    "visualisation()\n",
    "print(\"Mean of MSE for the model:{}\".format(np.mean(mse)))\n",
    "print(\"Variance of MSE for the model:{}\".format(np.var(mse)))"
   ]
  },
  {
   "cell_type": "code",
   "execution_count": null,
   "metadata": {
    "collapsed": true
   },
   "outputs": [],
   "source": []
  },
  {
   "cell_type": "code",
   "execution_count": null,
   "metadata": {
    "collapsed": false
   },
   "outputs": [],
   "source": [
    "def generate_new_data(mu=0, sigma=0.3):\n",
    "    t=np.arange(0,10,0.01)\n",
    "    t1=np.arange(0,20,0.02)\n",
    "    s = np.random.normal(mu, sigma, 1000)\n",
    "    x=(np.cos(2*np.pi*t1)*(np.sin(2*np.pi*t))+s)\n",
    "    return x"
   ]
  },
  {
   "cell_type": "code",
   "execution_count": null,
   "metadata": {
    "collapsed": false
   },
   "outputs": [],
   "source": [
    "mse=[]\n",
    "for i in range (10):\n",
    "    np.random.seed(i)\n",
    "    x_batches, y_batches, x_test, y_test=data_preparation(generate_new_data(),6)\n",
    "    #tf.set_random_seed(i)\n",
    "    mse_test,y_pred=run_graph(15500,6,hidden=1,lr=0.00044)\n",
    "    mse.append(mse_test)\n",
    "visualisation()\n",
    "print(\"Mean of MSE for the model:{}\".format(np.mean(mse)))\n",
    "print(\"Variance of MSE for the model:{}\".format(np.var(mse)))"
   ]
  },
  {
   "cell_type": "code",
   "execution_count": null,
   "metadata": {
    "collapsed": false
   },
   "outputs": [],
   "source": [
    "mse=[]\n",
    "for i in range (10):\n",
    "    np.random.seed(i)\n",
    "    x_batches, y_batches, x_test, y_test=data_preparation(generate_new_data(),1)\n",
    "    #tf.set_random_seed(i)\n",
    "    mse_test,y_pred=run_graph(1000,1,hidden=1,lr=0.01)\n",
    "    mse.append(mse_test)\n",
    "visualisation()\n",
    "print(\"Mean of MSE for the model:{}\".format(np.mean(mse)))\n",
    "print(\"Variance of MSE for the model:{}\".format(np.var(mse)))"
   ]
  },
  {
   "cell_type": "code",
   "execution_count": null,
   "metadata": {
    "collapsed": false
   },
   "outputs": [],
   "source": [
    "mse=[]\n",
    "for i in range (10):\n",
    "    np.random.seed(i)\n",
    "    x_batches, y_batches, x_test, y_test=data_preparation(generate_new_data(),2)\n",
    "    #tf.set_random_seed(i)\n",
    "    mse_test,y_pred=run_graph(1000,2,hidden=1,lr=0.01)\n",
    "    mse.append(mse_test)\n",
    "visualisation()\n",
    "print(\"Mean of MSE for the model:{}\".format(np.mean(mse)))\n",
    "print(\"Variance of MSE for the model:{}\".format(np.var(mse)))"
   ]
  },
  {
   "cell_type": "code",
   "execution_count": null,
   "metadata": {
    "collapsed": false
   },
   "outputs": [],
   "source": [
    "mse=[]\n",
    "for i in range (10):\n",
    "    np.random.seed(i)\n",
    "    x_batches, y_batches, x_test, y_test=data_preparation(generate_new_data(),3)\n",
    "    #tf.set_random_seed(i)\n",
    "    mse_test,y_pred=run_graph(1000,3,hidden=1,lr=0.01)\n",
    "    mse.append(mse_test)\n",
    "visualisation()\n",
    "print(\"Mean of MSE for the model:{}\".format(np.mean(mse)))\n",
    "print(\"Variance of MSE for the model:{}\".format(np.var(mse)))"
   ]
  },
  {
   "cell_type": "code",
   "execution_count": null,
   "metadata": {
    "collapsed": false
   },
   "outputs": [],
   "source": [
    "mse=[]\n",
    "for i in range (10):\n",
    "    np.random.seed(i)\n",
    "    x_batches, y_batches, x_test, y_test=data_preparation(generate_new_data(),4)\n",
    "    #tf.set_random_seed(i)\n",
    "    mse_test,y_pred=run_graph(1000,4,hidden=1,lr=0.01)\n",
    "    mse.append(mse_test)\n",
    "visualisation()\n",
    "print(\"Mean of MSE for the model:{}\".format(np.mean(mse)))\n",
    "print(\"Variance of MSE for the model:{}\".format(np.var(mse)))"
   ]
  },
  {
   "cell_type": "code",
   "execution_count": null,
   "metadata": {
    "collapsed": false
   },
   "outputs": [],
   "source": [
    "mse=[]\n",
    "for i in range (10):\n",
    "    np.random.seed(i)\n",
    "    x_batches, y_batches, x_test, y_test=data_preparation(generate_new_data(),5)\n",
    "    #tf.set_random_seed(i)\n",
    "    mse_test,y_pred=run_graph(1000,5,hidden=1,lr=0.01)\n",
    "    mse.append(mse_test)\n",
    "visualisation()\n",
    "print(\"Mean of MSE for the model:{}\".format(np.mean(mse)))\n",
    "print(\"Variance of MSE for the model:{}\".format(np.var(mse)))"
   ]
  },
  {
   "cell_type": "code",
   "execution_count": null,
   "metadata": {
    "collapsed": false
   },
   "outputs": [],
   "source": [
    "mse=[]\n",
    "for i in range (10):\n",
    "    np.random.seed(i)\n",
    "    x_batches, y_batches, x_test, y_test=data_preparation(generate_new_data(),6)\n",
    "    #tf.set_random_seed(i)\n",
    "    mse_test,y_pred=run_graph(1000,6,hidden=1,lr=0.01)\n",
    "    mse.append(mse_test)\n",
    "visualisation()\n",
    "print(\"Mean of MSE for the model:{}\".format(np.mean(mse)))\n",
    "print(\"Variance of MSE for the model:{}\".format(np.var(mse)))"
   ]
  },
  {
   "cell_type": "code",
   "execution_count": null,
   "metadata": {
    "collapsed": false
   },
   "outputs": [],
   "source": [
    "mse=[]\n",
    "for i in range (10):\n",
    "    np.random.seed(i)\n",
    "    x_batches, y_batches, x_test, y_test=data_preparation(generate_new_data(),7)\n",
    "    #tf.set_random_seed(i)\n",
    "    mse_test,y_pred=run_graph(1000,7,hidden=1,lr=0.01)\n",
    "    mse.append(mse_test)\n",
    "visualisation()\n",
    "print(\"Mean of MSE for the model:{}\".format(np.mean(mse)))\n",
    "print(\"Variance of MSE for the model:{}\".format(np.var(mse)))"
   ]
  },
  {
   "cell_type": "code",
   "execution_count": null,
   "metadata": {
    "collapsed": false
   },
   "outputs": [],
   "source": [
    "mse=[]\n",
    "for i in range (10):\n",
    "    np.random.seed(i)\n",
    "    x_batches, y_batches, x_test, y_test=data_preparation(generate_new_data(),4)\n",
    "    #tf.set_random_seed(i)\n",
    "    mse_test,y_pred=run_graph(2000,4,hidden=1,lr=0.01)\n",
    "    mse.append(mse_test)\n",
    "visualisation()\n",
    "print(\"Mean of MSE for the model:{}\".format(np.mean(mse)))\n",
    "print(\"Variance of MSE for the model:{}\".format(np.var(mse)))"
   ]
  },
  {
   "cell_type": "code",
   "execution_count": null,
   "metadata": {
    "collapsed": false
   },
   "outputs": [],
   "source": [
    "mse=[]\n",
    "for i in range (10):\n",
    "    np.random.seed(i)\n",
    "    x_batches, y_batches, x_test, y_test=data_preparation(generate_new_data(),4)\n",
    "    #tf.set_random_seed(i)\n",
    "    mse_test,y_pred=run_graph(4000,4,hidden=1,lr=0.01)\n",
    "    mse.append(mse_test)\n",
    "visualisation()\n",
    "print(\"Mean of MSE for the model:{}\".format(np.mean(mse)))\n",
    "print(\"Variance of MSE for the model:{}\".format(np.var(mse)))"
   ]
  },
  {
   "cell_type": "code",
   "execution_count": null,
   "metadata": {
    "collapsed": false
   },
   "outputs": [],
   "source": [
    "mse=[]\n",
    "for i in range (10):\n",
    "    np.random.seed(i)\n",
    "    x_batches, y_batches, x_test, y_test=data_preparation(generate_new_data(),4)\n",
    "    #tf.set_random_seed(i)\n",
    "    mse_test,y_pred=run_graph(4500,4,hidden=1,lr=0.01)\n",
    "    mse.append(mse_test)\n",
    "visualisation()\n",
    "print(\"Mean of MSE for the model:{}\".format(np.mean(mse)))\n",
    "print(\"Variance of MSE for the model:{}\".format(np.var(mse)))"
   ]
  },
  {
   "cell_type": "code",
   "execution_count": null,
   "metadata": {
    "collapsed": false
   },
   "outputs": [],
   "source": [
    "mse=[]\n",
    "for i in range (10):\n",
    "    np.random.seed(i)\n",
    "    x_batches, y_batches, x_test, y_test=data_preparation(generate_new_data(),4)\n",
    "    #tf.set_random_seed(i)\n",
    "    mse_test,y_pred=run_graph(16000,4,hidden=1,lr=0.001)\n",
    "    mse.append(mse_test)\n",
    "visualisation()\n",
    "print(\"Mean of MSE for the model:{}\".format(np.mean(mse)))\n",
    "print(\"Variance of MSE for the model:{}\".format(np.var(mse)))"
   ]
  },
  {
   "cell_type": "code",
   "execution_count": null,
   "metadata": {
    "collapsed": false
   },
   "outputs": [],
   "source": [
    "mse=[]\n",
    "for i in range (10):\n",
    "    np.random.seed(i)\n",
    "    x_batches, y_batches, x_test, y_test=data_preparation(generate_new_data(),4)\n",
    "    #tf.set_random_seed(i)\n",
    "    mse_test,y_pred=run_graph(20000,4,hidden=1,lr=0.001)\n",
    "    mse.append(mse_test)\n",
    "visualisation()\n",
    "print(\"Mean of MSE for the model:{}\".format(np.mean(mse)))\n",
    "print(\"Variance of MSE for the model:{}\".format(np.var(mse)))"
   ]
  },
  {
   "cell_type": "code",
   "execution_count": null,
   "metadata": {
    "collapsed": false
   },
   "outputs": [],
   "source": [
    " mse=[]\n",
    "for i in range (10):\n",
    "    np.random.seed(i)\n",
    "    x_batches, y_batches, x_test, y_test=data_preparation(generate_data(),6)\n",
    "    #tf.set_random_seed(i)\n",
    "    mse_test,y_pred=run_graph(15700,6,hidden=2,lr=0.00043)\n",
    "    mse.append(mse_test)\n",
    "visualisation()\n",
    "print(\"Mean of MSE for the model:{}\".format(np.mean(mse)))\n",
    "print(\"Variance of MSE for the model:{}\".format(np.var(mse)))"
   ]
  },
  {
   "cell_type": "code",
   "execution_count": null,
   "metadata": {
    "collapsed": false
   },
   "outputs": [],
   "source": [
    "plt.plot(y_test,'o')\n",
    "plt.plot(y_pred,'*')"
   ]
  },
  {
   "cell_type": "code",
   "execution_count": null,
   "metadata": {
    "collapsed": false
   },
   "outputs": [],
   "source": [
    "mse=[]\n",
    "for i in range (10):\n",
    "    np.random.seed(i)\n",
    "    x_batches, y_batches, x_test, y_test=data_preparation(generate_new_data(),4)\n",
    "    #tf.set_random_seed(i)\n",
    "    mse_test,y_pred=run_graph(2000,4,hidden=1,lr=0.01)\n",
    "    mse.append(mse_test)\n",
    "visualisation()\n",
    "print(\"Mean of MSE for the model:{}\".format(np.mean(mse)))\n",
    "print(\"Variance of MSE for the model:{}\".format(np.var(mse)))"
   ]
  },
  {
   "cell_type": "code",
   "execution_count": null,
   "metadata": {
    "collapsed": true
   },
   "outputs": [],
   "source": []
  }
 ],
 "metadata": {
  "anaconda-cloud": {},
  "kernelspec": {
   "display_name": "Python [conda root]",
   "language": "python",
   "name": "conda-root-py"
  },
  "language_info": {
   "codemirror_mode": {
    "name": "ipython",
    "version": 3
   },
   "file_extension": ".py",
   "mimetype": "text/x-python",
   "name": "python",
   "nbconvert_exporter": "python",
   "pygments_lexer": "ipython3",
   "version": "3.5.2"
  }
 },
 "nbformat": 4,
 "nbformat_minor": 2
}
